{
 "cells": [
  {
   "cell_type": "markdown",
   "metadata": {},
   "source": [
    "# Задание 2.1 - Нейронные сети\n",
    "\n",
    "В этом задании вы реализуете и натренируете настоящую нейроную сеть своими руками!\n",
    "\n",
    "В некотором смысле это будет расширением прошлого задания - нам нужно просто составить несколько линейных классификаторов вместе!\n",
    "\n",
    "<img src=\"https://i.redd.it/n9fgba8b0qr01.png\" alt=\"Stack_more_layers\" width=\"400px\"/>"
   ]
  },
  {
   "cell_type": "code",
   "execution_count": 1,
   "metadata": {},
   "outputs": [],
   "source": [
    "import numpy as np\n",
    "import matplotlib.pyplot as plt\n",
    "\n",
    "%matplotlib inline\n",
    "\n",
    "%load_ext autoreload\n",
    "%autoreload 2"
   ]
  },
  {
   "cell_type": "code",
   "execution_count": 2,
   "metadata": {},
   "outputs": [],
   "source": [
    "from dataset import load_svhn, random_split_train_val\n",
    "from gradient_check import check_layer_gradient, check_layer_param_gradient, check_model_gradient\n",
    "from layers import FullyConnectedLayer, ReLULayer\n",
    "from model import TwoLayerNet\n",
    "from trainer import Trainer, Dataset\n",
    "from optim import SGD, MomentumSGD\n",
    "from metrics import multiclass_accuracy"
   ]
  },
  {
   "cell_type": "markdown",
   "metadata": {},
   "source": [
    "# Загружаем данные\n",
    "\n",
    "И разделяем их на training и validation."
   ]
  },
  {
   "cell_type": "code",
   "execution_count": 3,
   "metadata": {},
   "outputs": [],
   "source": [
    "def prepare_for_neural_network(train_X, test_X):\n",
    "    train_flat = train_X.reshape(train_X.shape[0], -1).astype(np.float) / 255.0\n",
    "    test_flat = test_X.reshape(test_X.shape[0], -1).astype(np.float) / 255.0\n",
    "    \n",
    "    # Subtract mean\n",
    "    mean_image = np.mean(train_flat, axis = 0)\n",
    "    train_flat -= mean_image\n",
    "    test_flat -= mean_image\n",
    "    \n",
    "    return train_flat, test_flat\n",
    "    \n",
    "train_X, train_y, test_X, test_y = load_svhn(\"data\", max_train=10000, max_test=1000)    \n",
    "train_X, test_X = prepare_for_neural_network(train_X, test_X)\n",
    "# Split train into train and val\n",
    "train_X, train_y, val_X, val_y = random_split_train_val(train_X, train_y, num_val = 1000)"
   ]
  },
  {
   "cell_type": "markdown",
   "metadata": {},
   "source": [
    "# Как всегда, начинаем с кирпичиков\n",
    "\n",
    "Мы будем реализовывать необходимые нам слои по очереди. Каждый слой должен реализовать:\n",
    "- прямой проход (forward pass), который генерирует выход слоя по входу и запоминает необходимые данные\n",
    "- обратный проход (backward pass), который получает градиент по выходу слоя и вычисляет градиент по входу и по параметрам\n",
    "\n",
    "Начнем с ReLU, у которого параметров нет."
   ]
  },
  {
   "cell_type": "code",
   "execution_count": 4,
   "metadata": {},
   "outputs": [
    {
     "name": "stdout",
     "output_type": "stream",
     "text": [
      "Gradient check passed!\n"
     ]
    }
   ],
   "source": [
    "# TODO: Implement ReLULayer layer in layers.py\n",
    "# Note: you'll need to copy implementation of the gradient_check function from the previous assignment\n",
    "\n",
    "X = np.array([[0,-2,3],\n",
    "              [-1, 2, 0.1]\n",
    "              ])\n",
    "\n",
    "testLayer = ReLULayer()\n",
    "\n",
    "assert check_layer_gradient(ReLULayer(), X)"
   ]
  },
  {
   "cell_type": "markdown",
   "metadata": {},
   "source": [
    "А теперь реализуем полносвязный слой (fully connected layer), у которого будет два массива параметров: W (weights) и B (bias).\n",
    "\n",
    "Все параметры наши слои будут использовать для параметров специальный класс `Param`, в котором будут храниться значения параметров и градиенты этих параметров, вычисляемые во время обратного прохода.\n",
    "\n",
    "Это даст возможность аккумулировать (суммировать) градиенты из разных частей функции потерь, например, из cross-entropy loss и regularization loss."
   ]
  },
  {
   "cell_type": "code",
   "execution_count": 5,
   "metadata": {},
   "outputs": [
    {
     "name": "stdout",
     "output_type": "stream",
     "text": [
      "Gradient check passed!\n",
      "Gradient check passed!\n",
      "Gradient check passed!\n"
     ]
    }
   ],
   "source": [
    "# TODO: Implement FullyConnected layer forward and backward methods\n",
    "assert check_layer_gradient(FullyConnectedLayer(3, 4), X)\n",
    "# TODO: Implement storing gradients for W and B\n",
    "assert check_layer_param_gradient(FullyConnectedLayer(3, 4), X, 'W')\n",
    "assert check_layer_param_gradient(FullyConnectedLayer(3, 4), X, 'B')"
   ]
  },
  {
   "cell_type": "markdown",
   "metadata": {},
   "source": [
    "## Создаем нейронную сеть\n",
    "\n",
    "Теперь мы реализуем простейшую нейронную сеть с двумя полносвязным слоями и нелинейностью ReLU. Реализуйте функцию `compute_loss_and_gradients`, она должна запустить прямой и обратный проход через оба слоя для вычисления градиентов.\n",
    "\n",
    "Не забудьте реализовать очистку градиентов в начале функции."
   ]
  },
  {
   "cell_type": "code",
   "execution_count": 6,
   "metadata": {},
   "outputs": [
    {
     "data": {
      "text/plain": [
       "2.2537337939200146"
      ]
     },
     "execution_count": 6,
     "metadata": {},
     "output_type": "execute_result"
    }
   ],
   "source": [
    "from model import TwoLayerNet\n",
    "model = TwoLayerNet(n_input = train_X.shape[1], n_output = 10, hidden_layer_size = 3, reg = 0)\n",
    "\n",
    "#Now implement regularizaion\n",
    "model.compute_loss_and_gradients(train_X[:2], train_y[:2])\n",
    "\n"
   ]
  },
  {
   "cell_type": "code",
   "execution_count": 7,
   "metadata": {},
   "outputs": [
    {
     "name": "stdout",
     "output_type": "stream",
     "text": [
      "Checking gradient for hidden_W parameter\n",
      "Gradient check passed!\n",
      "Checking gradient for hidden_B parameter\n",
      "Gradient check passed!\n",
      "Checking gradient for output_W parameter\n",
      "Gradient check passed!\n",
      "Checking gradient for output_B parameter\n",
      "Gradient check passed!\n"
     ]
    },
    {
     "data": {
      "text/plain": [
       "True"
      ]
     },
     "execution_count": 7,
     "metadata": {},
     "output_type": "execute_result"
    }
   ],
   "source": [
    "# TODO: In model.py, implement compute_loss_and_gradients function\n",
    "model = TwoLayerNet(n_input = train_X.shape[1], n_output = 10, hidden_layer_size = 3, reg = 0)\n",
    "loss = model.compute_loss_and_gradients(train_X[:2], train_y[:2])\n",
    "\n",
    "# TODO Now implement backward pass and aggregate all of the params\n",
    "check_model_gradient(model, train_X[:2], train_y[:2])"
   ]
  },
  {
   "cell_type": "markdown",
   "metadata": {},
   "source": [
    "Теперь добавьте к модели регуляризацию - она должна прибавляться к loss и делать свой вклад в градиенты."
   ]
  },
  {
   "cell_type": "code",
   "execution_count": 8,
   "metadata": {},
   "outputs": [
    {
     "name": "stdout",
     "output_type": "stream",
     "text": [
      "Checking gradient for hidden_W parameter\n",
      "Gradient check passed!\n",
      "Checking gradient for hidden_B parameter\n",
      "Gradient check passed!\n",
      "Checking gradient for output_W parameter\n",
      "Gradient check passed!\n",
      "Checking gradient for output_B parameter\n",
      "Gradient check passed!\n"
     ]
    },
    {
     "data": {
      "text/plain": [
       "True"
      ]
     },
     "execution_count": 8,
     "metadata": {},
     "output_type": "execute_result"
    }
   ],
   "source": [
    "# TODO Now implement l2 regularization in the forward and backward pass\n",
    "model_with_reg = TwoLayerNet(n_input = train_X.shape[1], n_output = 10, hidden_layer_size = 3, reg = 1e1)\n",
    "loss_with_reg = model_with_reg.compute_loss_and_gradients(train_X[:2], train_y[:2])\n",
    "assert loss_with_reg > loss and not np.isclose(loss_with_reg, loss), \\\n",
    "    \"Loss with regularization (%2.4f) should be higher than without it (%2.4f)!\" % (loss, loss_with_reg)\n",
    "\n",
    "check_model_gradient(model_with_reg, train_X[:2], train_y[:2])"
   ]
  },
  {
   "cell_type": "markdown",
   "metadata": {},
   "source": [
    "Также реализуем функцию предсказания (вычисления значения) модели на новых данных.\n",
    "\n",
    "Какое значение точности мы ожидаем увидеть до начала тренировки?"
   ]
  },
  {
   "cell_type": "code",
   "execution_count": 9,
   "metadata": {},
   "outputs": [
    {
     "data": {
      "text/plain": [
       "0.1"
      ]
     },
     "execution_count": 9,
     "metadata": {},
     "output_type": "execute_result"
    }
   ],
   "source": [
    "# Finally, implement predict function!\n",
    "from layers import FullyConnectedLayer, ReLULayer\n",
    "from model import TwoLayerNet\n",
    "# TODO: Implement predict function\n",
    "# What would be the value we expect?\n",
    "multiclass_accuracy(model_with_reg.predict(train_X[:30]), train_y[:30]) "
   ]
  },
  {
   "cell_type": "markdown",
   "metadata": {},
   "source": [
    "# Допишем код для процесса тренировки\n",
    "\n",
    "Если все реализовано корректно, значение функции ошибки должно уменьшаться с каждой эпохой, пусть и медленно. Не беспокойтесь пока про validation accuracy."
   ]
  },
  {
   "cell_type": "code",
   "execution_count": 10,
   "metadata": {},
   "outputs": [
    {
     "name": "stdout",
     "output_type": "stream",
     "text": [
      "Epoch: 0, Loss: 5.329251, Train accuracy: 0.240556, val accuracy: 0.237000\n",
      "Epoch: 1, Loss: 5.333040, Train accuracy: 0.285222, val accuracy: 0.286000\n",
      "Epoch: 2, Loss: 4.935654, Train accuracy: 0.317778, val accuracy: 0.310000\n",
      "Epoch: 3, Loss: 5.105554, Train accuracy: 0.346556, val accuracy: 0.333000\n",
      "Epoch: 4, Loss: 4.659118, Train accuracy: 0.366667, val accuracy: 0.355000\n",
      "Epoch: 5, Loss: 4.924880, Train accuracy: 0.382333, val accuracy: 0.375000\n",
      "Epoch: 6, Loss: 4.635313, Train accuracy: 0.393222, val accuracy: 0.392000\n",
      "Epoch: 7, Loss: 4.838899, Train accuracy: 0.407889, val accuracy: 0.402000\n",
      "Epoch: 8, Loss: 4.586705, Train accuracy: 0.412444, val accuracy: 0.414000\n",
      "Epoch: 9, Loss: 4.005312, Train accuracy: 0.421000, val accuracy: 0.418000\n",
      "Epoch: 10, Loss: 4.103477, Train accuracy: 0.426000, val accuracy: 0.426000\n",
      "Epoch: 11, Loss: 4.391783, Train accuracy: 0.429889, val accuracy: 0.422000\n",
      "Epoch: 12, Loss: 4.141169, Train accuracy: 0.442667, val accuracy: 0.437000\n",
      "Epoch: 13, Loss: 4.015488, Train accuracy: 0.448444, val accuracy: 0.444000\n",
      "Epoch: 14, Loss: 3.863704, Train accuracy: 0.450222, val accuracy: 0.452000\n",
      "Epoch: 15, Loss: 3.854310, Train accuracy: 0.461556, val accuracy: 0.460000\n",
      "Epoch: 16, Loss: 3.975284, Train accuracy: 0.463667, val accuracy: 0.452000\n",
      "Epoch: 17, Loss: 3.771023, Train accuracy: 0.468667, val accuracy: 0.464000\n",
      "Epoch: 18, Loss: 3.717183, Train accuracy: 0.471667, val accuracy: 0.463000\n",
      "Epoch: 19, Loss: 3.754264, Train accuracy: 0.470667, val accuracy: 0.462000\n"
     ]
    }
   ],
   "source": [
    "from trainer import Trainer, Dataset\n",
    "model = TwoLayerNet(n_input = train_X.shape[1], n_output = 10, hidden_layer_size = 100, reg = 1e-3)\n",
    "dataset = Dataset(train_X, train_y, val_X, val_y)\n",
    "trainer = Trainer(model, dataset, SGD(),num_epochs=20, learning_rate = 1e-2)\n",
    "\n",
    "# TODO Implement missing pieces in Trainer.fit function\n",
    "# You should expect loss to go down every epoch, even if it's slow\n",
    "loss_history, train_history, val_history = trainer.fit()"
   ]
  },
  {
   "cell_type": "code",
   "execution_count": 11,
   "metadata": {},
   "outputs": [
    {
     "data": {
      "text/plain": [
       "[<matplotlib.lines.Line2D at 0x7fc94a3a56a0>]"
      ]
     },
     "execution_count": 11,
     "metadata": {},
     "output_type": "execute_result"
    },
    {
     "data": {
      "image/png": "[encoded data removed]",
      "text/plain": [
       "<Figure size 432x288 with 1 Axes>"
      ]
     },
     "metadata": {
      "needs_background": "light"
     },
     "output_type": "display_data"
    }
   ],
   "source": [
    "plt.plot(loss_history)"
   ]
  },
  {
   "cell_type": "code",
   "execution_count": 12,
   "metadata": {},
   "outputs": [
    {
     "data": {
      "text/plain": [
       "[<matplotlib.lines.Line2D at 0x7fc94a3557b8>]"
      ]
     },
     "execution_count": 12,
     "metadata": {},
     "output_type": "execute_result"
    },
    {
     "data": {
      "image/png": "[encoded data removed]",
      "text/plain": [
       "<Figure size 432x288 with 1 Axes>"
      ]
     },
     "metadata": {
      "needs_background": "light"
     },
     "output_type": "display_data"
    }
   ],
   "source": [
    "plt.plot(train_history)\n",
    "plt.plot(val_history)"
   ]
  },
  {
   "cell_type": "markdown",
   "metadata": {},
   "source": [
    "# Улучшаем процесс тренировки\n",
    "\n",
    "Мы реализуем несколько ключевых оптимизаций, необходимых для тренировки современных нейросетей."
   ]
  },
  {
   "cell_type": "markdown",
   "metadata": {},
   "source": [
    "## Уменьшение скорости обучения (learning rate decay)\n",
    "\n",
    "Одна из необходимых оптимизаций во время тренировки нейронных сетей - постепенное уменьшение скорости обучения по мере тренировки.\n",
    "\n",
    "Один из стандартных методов - уменьшение скорости обучения (learning rate) каждые N эпох на коэффициент d (часто называемый decay). Значения N и d, как всегда, являются гиперпараметрами и должны подбираться на основе эффективности на проверочных данных (validation data). \n",
    "\n",
    "В нашем случае N будет равным 1."
   ]
  },
  {
   "cell_type": "code",
   "execution_count": 13,
   "metadata": {},
   "outputs": [
    {
     "name": "stdout",
     "output_type": "stream",
     "text": [
      "Epoch: 0, Loss: 53.070348, Train accuracy: 0.195667, val accuracy: 0.205000\n",
      "Epoch: 1, Loss: 10.759354, Train accuracy: 0.196667, val accuracy: 0.206000\n",
      "Epoch: 2, Loss: 3.768708, Train accuracy: 0.196667, val accuracy: 0.206000\n",
      "Epoch: 3, Loss: 2.507835, Train accuracy: 0.196667, val accuracy: 0.206000\n",
      "Epoch: 4, Loss: 2.267025, Train accuracy: 0.196667, val accuracy: 0.206000\n",
      "Epoch: 5, Loss: 2.327494, Train accuracy: 0.196667, val accuracy: 0.206000\n",
      "Epoch: 6, Loss: 2.277025, Train accuracy: 0.196667, val accuracy: 0.206000\n",
      "Epoch: 7, Loss: 2.305110, Train accuracy: 0.196667, val accuracy: 0.206000\n",
      "Epoch: 8, Loss: 2.269907, Train accuracy: 0.196667, val accuracy: 0.206000\n",
      "Epoch: 9, Loss: 2.343462, Train accuracy: 0.196667, val accuracy: 0.206000\n",
      "Epoch: 10, Loss: 2.278349, Train accuracy: 0.196667, val accuracy: 0.206000\n",
      "Epoch: 11, Loss: 2.228865, Train accuracy: 0.196667, val accuracy: 0.206000\n",
      "Epoch: 12, Loss: 2.296438, Train accuracy: 0.196667, val accuracy: 0.206000\n",
      "Epoch: 13, Loss: 2.266228, Train accuracy: 0.196667, val accuracy: 0.206000\n",
      "Epoch: 14, Loss: 2.232561, Train accuracy: 0.196667, val accuracy: 0.206000\n",
      "Epoch: 15, Loss: 2.266127, Train accuracy: 0.196667, val accuracy: 0.206000\n",
      "Epoch: 16, Loss: 2.275511, Train accuracy: 0.196667, val accuracy: 0.206000\n",
      "Epoch: 17, Loss: 2.316422, Train accuracy: 0.196667, val accuracy: 0.206000\n",
      "Epoch: 18, Loss: 2.162603, Train accuracy: 0.196667, val accuracy: 0.206000\n",
      "Epoch: 19, Loss: 2.356698, Train accuracy: 0.196667, val accuracy: 0.206000\n"
     ]
    }
   ],
   "source": [
    "# TODO Implement learning rate decay inside Trainer.fit method\n",
    "# Decay should happen once per epoch\n",
    "\n",
    "model = TwoLayerNet(n_input = train_X.shape[1], n_output = 10, hidden_layer_size = 100, reg = 1e-1)\n",
    "dataset = Dataset(train_X, train_y, val_X, val_y)\n",
    "trainer = Trainer(model, dataset, SGD(), learning_rate_decay=0.99)\n",
    "\n",
    "initial_learning_rate = trainer.learning_rate\n",
    "loss_history, train_history, val_history = trainer.fit()\n",
    "\n",
    "assert trainer.learning_rate < initial_learning_rate, \"Learning rate should've been reduced\"\n",
    "assert trainer.learning_rate > 0.5*initial_learning_rate, \"Learning rate shouldn'tve been reduced that much!\""
   ]
  },
  {
   "cell_type": "markdown",
   "metadata": {},
   "source": [
    "# Накопление импульса (Momentum SGD)\n",
    "\n",
    "Другой большой класс оптимизаций - использование более эффективных методов градиентного спуска. Мы реализуем один из них - накопление импульса (Momentum SGD).\n",
    "\n",
    "Этот метод хранит скорость движения, использует градиент для ее изменения на каждом шаге, и изменяет веса пропорционально значению скорости.\n",
    "(Физическая аналогия: Вместо скорости градиенты теперь будут задавать ускорение, но будет присутствовать сила трения.)\n",
    "\n",
    "```\n",
    "velocity = momentum * velocity - learning_rate * gradient \n",
    "w = w + velocity\n",
    "```\n",
    "\n",
    "`momentum` здесь коэффициент затухания, который тоже является гиперпараметром (к счастью, для него часто есть хорошее значение по умолчанию, типичный диапазон -- 0.8-0.99).\n",
    "\n",
    "Несколько полезных ссылок, где метод разбирается более подробно:  \n",
    "http://cs231n.github.io/neural-networks-3/#sgd  \n",
    "https://distill.pub/2017/momentum/"
   ]
  },
  {
   "cell_type": "code",
   "execution_count": 14,
   "metadata": {},
   "outputs": [
    {
     "name": "stdout",
     "output_type": "stream",
     "text": [
      "Epoch: 0, Loss: 2.285799, Train accuracy: 0.196667, val accuracy: 0.206000\n",
      "Epoch: 1, Loss: 2.305556, Train accuracy: 0.196667, val accuracy: 0.206000\n",
      "Epoch: 2, Loss: 2.169268, Train accuracy: 0.196667, val accuracy: 0.206000\n",
      "Epoch: 3, Loss: 2.227925, Train accuracy: 0.196667, val accuracy: 0.206000\n",
      "Epoch: 4, Loss: 2.289553, Train accuracy: 0.148222, val accuracy: 0.140000\n",
      "Epoch: 5, Loss: 2.289078, Train accuracy: 0.196667, val accuracy: 0.206000\n",
      "Epoch: 6, Loss: 2.236745, Train accuracy: 0.196667, val accuracy: 0.206000\n",
      "Epoch: 7, Loss: 2.312481, Train accuracy: 0.196667, val accuracy: 0.206000\n",
      "Epoch: 8, Loss: 2.269613, Train accuracy: 0.196667, val accuracy: 0.206000\n",
      "Epoch: 9, Loss: 2.225542, Train accuracy: 0.196667, val accuracy: 0.206000\n",
      "Epoch: 10, Loss: 2.308375, Train accuracy: 0.196667, val accuracy: 0.206000\n",
      "Epoch: 11, Loss: 2.304153, Train accuracy: 0.196667, val accuracy: 0.206000\n",
      "Epoch: 12, Loss: 2.293727, Train accuracy: 0.196667, val accuracy: 0.206000\n",
      "Epoch: 13, Loss: 2.256530, Train accuracy: 0.196667, val accuracy: 0.206000\n",
      "Epoch: 14, Loss: 2.311210, Train accuracy: 0.168889, val accuracy: 0.170000\n",
      "Epoch: 15, Loss: 2.245606, Train accuracy: 0.148222, val accuracy: 0.140000\n",
      "Epoch: 16, Loss: 2.301932, Train accuracy: 0.192889, val accuracy: 0.199000\n",
      "Epoch: 17, Loss: 2.319741, Train accuracy: 0.196667, val accuracy: 0.206000\n",
      "Epoch: 18, Loss: 2.321028, Train accuracy: 0.196667, val accuracy: 0.206000\n",
      "Epoch: 19, Loss: 2.255875, Train accuracy: 0.127778, val accuracy: 0.144000\n"
     ]
    }
   ],
   "source": [
    "# TODO: Implement MomentumSGD.update function in optim.py\n",
    "\n",
    "model = TwoLayerNet(n_input = train_X.shape[1], n_output = 10, hidden_layer_size = 100, reg = 1e-1)\n",
    "dataset = Dataset(train_X, train_y, val_X, val_y)\n",
    "trainer = Trainer(model, dataset, MomentumSGD(), learning_rate=1e-1, learning_rate_decay=0.99)\n",
    "\n",
    "# You should see even better results than before!\n",
    "loss_history, train_history, val_history = trainer.fit()"
   ]
  },
  {
   "cell_type": "markdown",
   "metadata": {},
   "source": [
    "# Ну что, давайте уже тренировать сеть!"
   ]
  },
  {
   "cell_type": "markdown",
   "metadata": {},
   "source": [
    "## Последний тест - переобучимся (overfit) на маленьком наборе данных\n",
    "\n",
    "Хороший способ проверить, все ли реализовано корректно - переобучить сеть на маленьком наборе данных.  \n",
    "Наша модель обладает достаточной мощностью, чтобы приблизить маленький набор данных идеально, поэтому мы ожидаем, что на нем мы быстро дойдем до 100% точности на тренировочном наборе. \n",
    "\n",
    "Если этого не происходит, то где-то была допущена ошибка!"
   ]
  },
  {
   "cell_type": "code",
   "execution_count": 15,
   "metadata": {},
   "outputs": [
    {
     "data": {
      "text/plain": [
       "array([9, 9, 2, ..., 4, 2, 7], dtype=uint8)"
      ]
     },
     "execution_count": 15,
     "metadata": {},
     "output_type": "execute_result"
    }
   ],
   "source": [
    "dataset.train_y"
   ]
  },
  {
   "cell_type": "code",
   "execution_count": 16,
   "metadata": {},
   "outputs": [
    {
     "data": {
      "text/plain": [
       "array([3, 2, 2, ..., 3, 2, 3])"
      ]
     },
     "execution_count": 16,
     "metadata": {},
     "output_type": "execute_result"
    }
   ],
   "source": [
    "model.predict(dataset.train_X)"
   ]
  },
  {
   "cell_type": "code",
   "execution_count": 17,
   "metadata": {},
   "outputs": [
    {
     "name": "stdout",
     "output_type": "stream",
     "text": [
      "Epoch: 0, Loss: 2.656823, Train accuracy: 0.000000, val accuracy: 0.133333\n",
      "Epoch: 1, Loss: 2.516913, Train accuracy: 0.133333, val accuracy: 0.066667\n",
      "Epoch: 2, Loss: 2.252700, Train accuracy: 0.333333, val accuracy: 0.066667\n",
      "Epoch: 3, Loss: 2.010264, Train accuracy: 0.333333, val accuracy: 0.000000\n",
      "Epoch: 4, Loss: 1.878531, Train accuracy: 0.400000, val accuracy: 0.000000\n",
      "Epoch: 5, Loss: 1.806800, Train accuracy: 0.400000, val accuracy: 0.000000\n",
      "Epoch: 6, Loss: 1.735520, Train accuracy: 0.400000, val accuracy: 0.000000\n",
      "Epoch: 7, Loss: 1.649465, Train accuracy: 0.533333, val accuracy: 0.000000\n",
      "Epoch: 8, Loss: 1.558893, Train accuracy: 0.533333, val accuracy: 0.000000\n",
      "Epoch: 9, Loss: 1.474613, Train accuracy: 0.533333, val accuracy: 0.000000\n",
      "Epoch: 10, Loss: 1.416436, Train accuracy: 0.533333, val accuracy: 0.000000\n",
      "Epoch: 11, Loss: 1.382035, Train accuracy: 0.533333, val accuracy: 0.000000\n",
      "Epoch: 12, Loss: 1.353556, Train accuracy: 0.533333, val accuracy: 0.000000\n",
      "Epoch: 13, Loss: 1.320687, Train accuracy: 0.533333, val accuracy: 0.000000\n",
      "Epoch: 14, Loss: 1.283111, Train accuracy: 0.533333, val accuracy: 0.000000\n",
      "Epoch: 15, Loss: 1.249948, Train accuracy: 0.533333, val accuracy: 0.000000\n",
      "Epoch: 16, Loss: 1.223179, Train accuracy: 0.533333, val accuracy: 0.000000\n",
      "Epoch: 17, Loss: 1.203155, Train accuracy: 0.533333, val accuracy: 0.000000\n",
      "Epoch: 18, Loss: 1.188550, Train accuracy: 0.533333, val accuracy: 0.000000\n",
      "Epoch: 19, Loss: 1.175452, Train accuracy: 0.533333, val accuracy: 0.000000\n",
      "Epoch: 20, Loss: 1.162145, Train accuracy: 0.533333, val accuracy: 0.000000\n",
      "Epoch: 21, Loss: 1.149641, Train accuracy: 0.533333, val accuracy: 0.000000\n",
      "Epoch: 22, Loss: 1.139319, Train accuracy: 0.533333, val accuracy: 0.000000\n",
      "Epoch: 23, Loss: 1.130380, Train accuracy: 0.533333, val accuracy: 0.000000\n",
      "Epoch: 24, Loss: 1.122290, Train accuracy: 0.533333, val accuracy: 0.000000\n",
      "Epoch: 25, Loss: 1.116104, Train accuracy: 0.533333, val accuracy: 0.000000\n",
      "Epoch: 26, Loss: 1.110515, Train accuracy: 0.533333, val accuracy: 0.066667\n",
      "Epoch: 27, Loss: 1.105795, Train accuracy: 0.533333, val accuracy: 0.066667\n",
      "Epoch: 28, Loss: 1.101788, Train accuracy: 0.533333, val accuracy: 0.066667\n",
      "Epoch: 29, Loss: 1.098317, Train accuracy: 0.533333, val accuracy: 0.066667\n",
      "Epoch: 30, Loss: 1.095291, Train accuracy: 0.533333, val accuracy: 0.066667\n",
      "Epoch: 31, Loss: 1.092660, Train accuracy: 0.533333, val accuracy: 0.066667\n",
      "Epoch: 32, Loss: 1.090352, Train accuracy: 0.533333, val accuracy: 0.066667\n",
      "Epoch: 33, Loss: 1.088325, Train accuracy: 0.533333, val accuracy: 0.066667\n",
      "Epoch: 34, Loss: 1.086605, Train accuracy: 0.533333, val accuracy: 0.066667\n",
      "Epoch: 35, Loss: 1.085404, Train accuracy: 0.533333, val accuracy: 0.066667\n",
      "Epoch: 36, Loss: 1.084377, Train accuracy: 0.533333, val accuracy: 0.066667\n",
      "Epoch: 37, Loss: 1.083492, Train accuracy: 0.533333, val accuracy: 0.066667\n",
      "Epoch: 38, Loss: 1.082727, Train accuracy: 0.533333, val accuracy: 0.066667\n",
      "Epoch: 39, Loss: 1.082064, Train accuracy: 0.533333, val accuracy: 0.066667\n",
      "Epoch: 40, Loss: 1.081487, Train accuracy: 0.533333, val accuracy: 0.066667\n",
      "Epoch: 41, Loss: 1.080984, Train accuracy: 0.533333, val accuracy: 0.066667\n",
      "Epoch: 42, Loss: 1.080544, Train accuracy: 0.533333, val accuracy: 0.066667\n",
      "Epoch: 43, Loss: 1.080158, Train accuracy: 0.533333, val accuracy: 0.066667\n",
      "Epoch: 44, Loss: 1.079818, Train accuracy: 0.533333, val accuracy: 0.066667\n",
      "Epoch: 45, Loss: 1.079517, Train accuracy: 0.533333, val accuracy: 0.066667\n",
      "Epoch: 46, Loss: 1.079251, Train accuracy: 0.533333, val accuracy: 0.066667\n",
      "Epoch: 47, Loss: 1.079013, Train accuracy: 0.533333, val accuracy: 0.066667\n",
      "Epoch: 48, Loss: 1.078873, Train accuracy: 0.533333, val accuracy: 0.066667\n",
      "Epoch: 49, Loss: 1.078619, Train accuracy: 0.533333, val accuracy: 0.066667\n"
     ]
    }
   ],
   "source": [
    "data_size = 15\n",
    "model = TwoLayerNet(n_input = train_X.shape[1], n_output = 10, hidden_layer_size = 100, reg = 1e-7)\n",
    "dataset = Dataset(train_X[:data_size], train_y[:data_size], val_X[:data_size], val_y[:data_size])\n",
    "trainer = Trainer(model, dataset, MomentumSGD(), learning_rate=2.8e-2, num_epochs=50, batch_size=15)\n",
    "\n",
    "# You should expect this to reach 1.0 training accuracy \n",
    "loss_history, train_history, val_history = trainer.fit()"
   ]
  },
  {
   "cell_type": "markdown",
   "metadata": {},
   "source": [
    "Теперь найдем гипепараметры, для которых этот процесс сходится быстрее.\n",
    "Если все реализовано корректно, то существуют параметры, при которых процесс сходится в **20** эпох или еще быстрее.\n",
    "Найдите их!"
   ]
  },
  {
   "cell_type": "code",
   "execution_count": 18,
   "metadata": {},
   "outputs": [
    {
     "name": "stdout",
     "output_type": "stream",
     "text": [
      "Epoch: 0, Loss: 33.281668, Train accuracy: 0.333333, val accuracy: 0.133333\n",
      "Epoch: 1, Loss: 32.254864, Train accuracy: 0.466667, val accuracy: 0.066667\n",
      "Epoch: 2, Loss: 31.048355, Train accuracy: 0.533333, val accuracy: 0.000000\n",
      "Epoch: 3, Loss: 29.601322, Train accuracy: 0.600000, val accuracy: 0.066667\n",
      "Epoch: 4, Loss: 27.853773, Train accuracy: 0.600000, val accuracy: 0.066667\n",
      "Epoch: 5, Loss: 26.029445, Train accuracy: 0.666667, val accuracy: 0.000000\n",
      "Epoch: 6, Loss: 24.034714, Train accuracy: 0.666667, val accuracy: 0.000000\n",
      "Epoch: 7, Loss: 21.975017, Train accuracy: 0.733333, val accuracy: 0.066667\n",
      "Epoch: 8, Loss: 19.848111, Train accuracy: 0.733333, val accuracy: 0.200000\n",
      "Epoch: 9, Loss: 17.860928, Train accuracy: 0.733333, val accuracy: 0.200000\n",
      "Epoch: 10, Loss: 15.983105, Train accuracy: 0.733333, val accuracy: 0.200000\n",
      "Epoch: 11, Loss: 14.131378, Train accuracy: 0.733333, val accuracy: 0.133333\n",
      "Epoch: 12, Loss: 12.402425, Train accuracy: 0.733333, val accuracy: 0.066667\n",
      "Epoch: 13, Loss: 10.792562, Train accuracy: 0.733333, val accuracy: 0.066667\n",
      "Epoch: 14, Loss: 9.306173, Train accuracy: 0.733333, val accuracy: 0.066667\n",
      "Epoch: 15, Loss: 7.964117, Train accuracy: 0.733333, val accuracy: 0.066667\n",
      "Epoch: 16, Loss: 6.751866, Train accuracy: 0.733333, val accuracy: 0.066667\n",
      "Epoch: 17, Loss: 5.679509, Train accuracy: 0.733333, val accuracy: 0.066667\n",
      "Epoch: 18, Loss: 4.746002, Train accuracy: 0.733333, val accuracy: 0.066667\n",
      "Epoch: 19, Loss: 3.942637, Train accuracy: 0.733333, val accuracy: 0.066667\n"
     ]
    }
   ],
   "source": [
    "# Now, tweak some hyper parameters and make it train to 1.0 accuracy in 20 epochs or less\n",
    "\n",
    "model = TwoLayerNet(n_input = train_X.shape[1], n_output = 10, hidden_layer_size = 100, reg = 1e-2)\n",
    "dataset = Dataset(train_X[:data_size], train_y[:data_size], val_X[:data_size], val_y[:data_size])\n",
    "# TODO: Change any hyperparamers or optimizators to reach training accuracy in 20 epochs\n",
    "trainer = Trainer(model, dataset, MomentumSGD(), learning_rate=4e-1, num_epochs=20, batch_size=15)\n",
    "\n",
    "loss_history, train_history, val_history = trainer.fit()"
   ]
  },
  {
   "cell_type": "markdown",
   "metadata": {},
   "source": [
    "# Итак, основное мероприятие!\n",
    "\n",
    "Натренируйте лучшую нейросеть! Можно добавлять и изменять параметры, менять количество нейронов в слоях сети и как угодно экспериментировать. \n",
    "\n",
    "Добейтесь точности лучше **40%** на validation set."
   ]
  },
  {
   "cell_type": "code",
   "execution_count": 20,
   "metadata": {},
   "outputs": [
    {
     "name": "stdout",
     "output_type": "stream",
     "text": [
      "Epoch: 0, Loss: 5.801769, Train accuracy: 0.262889, val accuracy: 0.264000\n",
      "Epoch: 1, Loss: 5.579680, Train accuracy: 0.326444, val accuracy: 0.312000\n",
      "Epoch: 2, Loss: 5.011766, Train accuracy: 0.377556, val accuracy: 0.381000\n",
      "Epoch: 3, Loss: 4.612413, Train accuracy: 0.430556, val accuracy: 0.415000\n",
      "Epoch: 4, Loss: 4.400833, Train accuracy: 0.481667, val accuracy: 0.463000\n",
      "Epoch: 5, Loss: 4.342537, Train accuracy: 0.521667, val accuracy: 0.508000\n",
      "Epoch: 6, Loss: 4.236347, Train accuracy: 0.566333, val accuracy: 0.566000\n",
      "Epoch: 7, Loss: 3.756008, Train accuracy: 0.592556, val accuracy: 0.577000\n",
      "Epoch: 8, Loss: 3.937789, Train accuracy: 0.605444, val accuracy: 0.601000\n",
      "Epoch: 9, Loss: 3.645066, Train accuracy: 0.625667, val accuracy: 0.605000\n",
      "Epoch: 10, Loss: 3.282560, Train accuracy: 0.632111, val accuracy: 0.627000\n",
      "Epoch: 11, Loss: 3.248752, Train accuracy: 0.644111, val accuracy: 0.635000\n",
      "Epoch: 12, Loss: 3.327053, Train accuracy: 0.652444, val accuracy: 0.628000\n",
      "Epoch: 13, Loss: 3.223341, Train accuracy: 0.648222, val accuracy: 0.633000\n",
      "Epoch: 14, Loss: 2.981717, Train accuracy: 0.661444, val accuracy: 0.633000\n",
      "Epoch: 15, Loss: 2.847025, Train accuracy: 0.651111, val accuracy: 0.626000\n",
      "Epoch: 16, Loss: 2.570987, Train accuracy: 0.675556, val accuracy: 0.631000\n",
      "Epoch: 17, Loss: 2.778924, Train accuracy: 0.670556, val accuracy: 0.636000\n",
      "Epoch: 18, Loss: 2.552175, Train accuracy: 0.679778, val accuracy: 0.626000\n",
      "Epoch: 19, Loss: 2.533746, Train accuracy: 0.674333, val accuracy: 0.638000\n",
      "Epoch: 20, Loss: 2.184094, Train accuracy: 0.694000, val accuracy: 0.645000\n",
      "Epoch: 21, Loss: 2.531039, Train accuracy: 0.691556, val accuracy: 0.642000\n",
      "Epoch: 22, Loss: 2.298597, Train accuracy: 0.687667, val accuracy: 0.643000\n",
      "Epoch: 23, Loss: 1.976968, Train accuracy: 0.706000, val accuracy: 0.663000\n",
      "Epoch: 24, Loss: 2.337003, Train accuracy: 0.694889, val accuracy: 0.648000\n",
      "Epoch: 25, Loss: 1.919365, Train accuracy: 0.696778, val accuracy: 0.655000\n",
      "Epoch: 26, Loss: 2.079676, Train accuracy: 0.695667, val accuracy: 0.638000\n",
      "Epoch: 27, Loss: 2.048493, Train accuracy: 0.710667, val accuracy: 0.658000\n",
      "Epoch: 28, Loss: 2.037291, Train accuracy: 0.707556, val accuracy: 0.650000\n",
      "Epoch: 29, Loss: 1.947716, Train accuracy: 0.713889, val accuracy: 0.652000\n",
      "Epoch: 30, Loss: 2.064407, Train accuracy: 0.719222, val accuracy: 0.654000\n",
      "Epoch: 31, Loss: 1.922403, Train accuracy: 0.721556, val accuracy: 0.656000\n",
      "Epoch: 32, Loss: 1.931028, Train accuracy: 0.721333, val accuracy: 0.654000\n",
      "Epoch: 33, Loss: 1.811801, Train accuracy: 0.722556, val accuracy: 0.668000\n",
      "Epoch: 34, Loss: 1.686697, Train accuracy: 0.727000, val accuracy: 0.662000\n",
      "Epoch: 35, Loss: 1.908920, Train accuracy: 0.727778, val accuracy: 0.665000\n",
      "Epoch: 36, Loss: 1.558890, Train accuracy: 0.715778, val accuracy: 0.653000\n",
      "Epoch: 37, Loss: 1.690082, Train accuracy: 0.732111, val accuracy: 0.654000\n",
      "Epoch: 38, Loss: 1.492209, Train accuracy: 0.731778, val accuracy: 0.660000\n",
      "Epoch: 39, Loss: 1.634160, Train accuracy: 0.723667, val accuracy: 0.657000\n",
      "Epoch: 40, Loss: 1.442879, Train accuracy: 0.734222, val accuracy: 0.662000\n",
      "Epoch: 41, Loss: 1.472247, Train accuracy: 0.741889, val accuracy: 0.662000\n",
      "Epoch: 42, Loss: 1.361825, Train accuracy: 0.739444, val accuracy: 0.659000\n",
      "Epoch: 43, Loss: 1.570906, Train accuracy: 0.734111, val accuracy: 0.662000\n",
      "Epoch: 44, Loss: 1.708255, Train accuracy: 0.730778, val accuracy: 0.644000\n",
      "Epoch: 45, Loss: 1.561389, Train accuracy: 0.740333, val accuracy: 0.658000\n",
      "Epoch: 46, Loss: 1.408902, Train accuracy: 0.737889, val accuracy: 0.653000\n",
      "Epoch: 47, Loss: 1.559723, Train accuracy: 0.738111, val accuracy: 0.662000\n",
      "Epoch: 48, Loss: 1.570523, Train accuracy: 0.747778, val accuracy: 0.669000\n",
      "Epoch: 49, Loss: 1.308769, Train accuracy: 0.740444, val accuracy: 0.669000\n",
      "Epoch: 50, Loss: 1.286358, Train accuracy: 0.750778, val accuracy: 0.665000\n",
      "Epoch: 51, Loss: 1.380453, Train accuracy: 0.752000, val accuracy: 0.672000\n",
      "Epoch: 52, Loss: 1.024026, Train accuracy: 0.750222, val accuracy: 0.660000\n",
      "Epoch: 53, Loss: 1.007711, Train accuracy: 0.763778, val accuracy: 0.685000\n",
      "Epoch: 54, Loss: 1.407341, Train accuracy: 0.771667, val accuracy: 0.681000\n",
      "Epoch: 55, Loss: 1.645406, Train accuracy: 0.777556, val accuracy: 0.683000\n",
      "Epoch: 56, Loss: 1.307444, Train accuracy: 0.791222, val accuracy: 0.687000\n",
      "Epoch: 57, Loss: 1.451140, Train accuracy: 0.798333, val accuracy: 0.688000\n",
      "Epoch: 58, Loss: 1.275795, Train accuracy: 0.800000, val accuracy: 0.694000\n",
      "Epoch: 59, Loss: 1.218461, Train accuracy: 0.796111, val accuracy: 0.689000\n",
      "Epoch: 60, Loss: 1.271429, Train accuracy: 0.796333, val accuracy: 0.692000\n",
      "Epoch: 61, Loss: 1.361409, Train accuracy: 0.799444, val accuracy: 0.695000\n",
      "Epoch: 62, Loss: 1.466923, Train accuracy: 0.803000, val accuracy: 0.694000\n",
      "Epoch: 63, Loss: 1.031787, Train accuracy: 0.810444, val accuracy: 0.717000\n",
      "Epoch: 64, Loss: 1.273288, Train accuracy: 0.821222, val accuracy: 0.704000\n",
      "Epoch: 65, Loss: 1.203727, Train accuracy: 0.834333, val accuracy: 0.714000\n",
      "Epoch: 66, Loss: 0.947859, Train accuracy: 0.829000, val accuracy: 0.714000\n",
      "Epoch: 67, Loss: 1.027039, Train accuracy: 0.829333, val accuracy: 0.716000\n",
      "Epoch: 68, Loss: 1.241018, Train accuracy: 0.839000, val accuracy: 0.719000\n",
      "Epoch: 69, Loss: 1.161226, Train accuracy: 0.840111, val accuracy: 0.737000\n",
      "Epoch: 70, Loss: 0.945485, Train accuracy: 0.842778, val accuracy: 0.721000\n",
      "Epoch: 71, Loss: 0.917184, Train accuracy: 0.840444, val accuracy: 0.728000\n",
      "Epoch: 72, Loss: 0.993484, Train accuracy: 0.829889, val accuracy: 0.724000\n",
      "Epoch: 73, Loss: 1.300430, Train accuracy: 0.845000, val accuracy: 0.734000\n",
      "Epoch: 74, Loss: 0.756390, Train accuracy: 0.846333, val accuracy: 0.742000\n",
      "Epoch: 75, Loss: 0.944941, Train accuracy: 0.850333, val accuracy: 0.736000\n",
      "Epoch: 76, Loss: 0.915832, Train accuracy: 0.846444, val accuracy: 0.735000\n",
      "Epoch: 77, Loss: 0.946339, Train accuracy: 0.853222, val accuracy: 0.733000\n",
      "Epoch: 78, Loss: 0.978552, Train accuracy: 0.836111, val accuracy: 0.725000\n",
      "Epoch: 79, Loss: 1.142221, Train accuracy: 0.852333, val accuracy: 0.732000\n",
      "Epoch: 80, Loss: 1.011750, Train accuracy: 0.849556, val accuracy: 0.730000\n",
      "Epoch: 81, Loss: 1.097094, Train accuracy: 0.850000, val accuracy: 0.733000\n",
      "Epoch: 82, Loss: 1.129570, Train accuracy: 0.846778, val accuracy: 0.726000\n",
      "Epoch: 83, Loss: 0.968226, Train accuracy: 0.847889, val accuracy: 0.725000\n",
      "Epoch: 84, Loss: 0.746598, Train accuracy: 0.853222, val accuracy: 0.736000\n",
      "Epoch: 85, Loss: 1.023225, Train accuracy: 0.857111, val accuracy: 0.745000\n",
      "Epoch: 86, Loss: 0.846272, Train accuracy: 0.862222, val accuracy: 0.736000\n",
      "Epoch: 87, Loss: 0.941672, Train accuracy: 0.865222, val accuracy: 0.737000\n",
      "Epoch: 88, Loss: 1.044353, Train accuracy: 0.870333, val accuracy: 0.746000\n",
      "Epoch: 89, Loss: 0.850877, Train accuracy: 0.889111, val accuracy: 0.762000\n",
      "Epoch: 90, Loss: 0.996776, Train accuracy: 0.909111, val accuracy: 0.777000\n",
      "Epoch: 91, Loss: 0.864421, Train accuracy: 0.911778, val accuracy: 0.781000\n",
      "Epoch: 92, Loss: 1.025878, Train accuracy: 0.903222, val accuracy: 0.777000\n",
      "Epoch: 93, Loss: 0.893587, Train accuracy: 0.916111, val accuracy: 0.779000\n",
      "Epoch: 94, Loss: 0.719498, Train accuracy: 0.913444, val accuracy: 0.780000\n",
      "Epoch: 95, Loss: 0.753119, Train accuracy: 0.912000, val accuracy: 0.783000\n",
      "Epoch: 96, Loss: 0.729391, Train accuracy: 0.913556, val accuracy: 0.777000\n",
      "Epoch: 97, Loss: 0.835590, Train accuracy: 0.912778, val accuracy: 0.776000\n",
      "Epoch: 98, Loss: 0.622279, Train accuracy: 0.918778, val accuracy: 0.782000\n",
      "Epoch: 99, Loss: 0.849537, Train accuracy: 0.918222, val accuracy: 0.783000\n"
     ]
    }
   ],
   "source": [
    "# Let's train the best one-hidden-layer network we can\n",
    "\n",
    "learning_rate = 1e-2\n",
    "reg_strength = 1e-3\n",
    "learning_rate_decay = 0.995\n",
    "hidden_layer_size = 128\n",
    "num_epochs = 100\n",
    "batch_size = 64\n",
    "\n",
    "model = TwoLayerNet(n_input = train_X.shape[1], n_output = 10, hidden_layer_size = hidden_layer_size, reg = reg_strength)\n",
    "dataset = Dataset(train_X, train_y, val_X, val_y)\n",
    "# TODO: Change any hyperparamers or optimizators to reach training accuracy in 20 epochs\n",
    "trainer = Trainer(model, \n",
    "                  dataset, MomentumSGD(), \n",
    "                  learning_rate=learning_rate,\n",
    "                  num_epochs=num_epochs, \n",
    "                  batch_size=batch_size, \n",
    "                  learning_rate_decay=learning_rate_decay\n",
    "                 )\n",
    "\n",
    "loss_history, train_history, val_history = trainer.fit()"
   ]
  },
  {
   "cell_type": "code",
   "execution_count": 21,
   "metadata": {},
   "outputs": [],
   "source": [
    "best_classifier = model\n",
    "best_loss_history = loss_history\n",
    "best_train_history = train_history\n",
    "best_val_history = val_history\n"
   ]
  },
  {
   "cell_type": "code",
   "execution_count": null,
   "metadata": {},
   "outputs": [],
   "source": [
    "plt.plot(best_loss_history)"
   ]
  },
  {
   "cell_type": "markdown",
   "metadata": {},
   "source": [
    "# Let's train the best one-hidden-layer network we can\n",
    "\n",
    "learning_rates = 1e-4\n",
    "reg_strength = 1e-3\n",
    "learning_rate_decay = 0.999\n",
    "hidden_layer_size = 128\n",
    "num_epochs = 200\n",
    "batch_size = 64\n",
    "\n",
    "best_classifier = None\n",
    "best_val_accuracy = None\n",
    "\n",
    "loss_history = []\n",
    "train_history = []\n",
    "val_history = []\n",
    "\n",
    "# TODO find the best hyperparameters to train the network\n",
    "# Don't hesitate to add new values to the arrays above, perform experiments, use any tricks you want\n",
    "# You should expect to get to at least 40% of valudation accuracy\n",
    "# Save loss/train/history of the best classifier to the variables above\n",
    "\n",
    "print('best validation accuracy achieved: %f' % best_val_accuracy)"
   ]
  },
  {
   "cell_type": "code",
   "execution_count": null,
   "metadata": {},
   "outputs": [],
   "source": [
    "plt.figure(figsize=(15, 7))\n",
    "plt.subplot(211)\n",
    "plt.title(\"Loss\")\n",
    "plt.plot(loss_history)\n",
    "plt.subplot(212)\n",
    "plt.title(\"Train/validation accuracy\")\n",
    "plt.plot(train_history)\n",
    "plt.plot(val_history)"
   ]
  },
  {
   "cell_type": "markdown",
   "metadata": {},
   "source": [
    "# Как обычно, посмотрим, как наша лучшая модель работает на тестовых данных"
   ]
  },
  {
   "cell_type": "code",
   "execution_count": 22,
   "metadata": {},
   "outputs": [
    {
     "name": "stdout",
     "output_type": "stream",
     "text": [
      "Neural net test set accuracy: 0.744000\n"
     ]
    }
   ],
   "source": [
    "test_pred = best_classifier.predict(test_X)\n",
    "test_accuracy = multiclass_accuracy(test_pred, test_y)\n",
    "print('Neural net test set accuracy: %f' % (test_accuracy, ))"
   ]
  },
  {
   "cell_type": "code",
   "execution_count": null,
   "metadata": {},
   "outputs": [],
   "source": []
  }
 ],
 "metadata": {
  "kernelspec": {
   "display_name": "dlcourse_ai_venv",
   "language": "python",
   "name": "dlcourse_ai_venv"
  },
  "language_info": {
   "codemirror_mode": {
    "name": "ipython",
    "version": 3
   },
   "file_extension": ".py",
   "mimetype": "text/x-python",
   "name": "python",
   "nbconvert_exporter": "python",
   "pygments_lexer": "ipython3",
   "version": "3.6.8"
  }
 },
 "nbformat": 4,
 "nbformat_minor": 4
}
