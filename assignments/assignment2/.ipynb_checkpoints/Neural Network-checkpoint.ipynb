{
 "cells": [
  {
   "cell_type": "markdown",
   "metadata": {},
   "source": [
    "# Задание 2.1 - Нейронные сети\n",
    "\n",
    "В этом задании вы реализуете и натренируете настоящую нейроную сеть своими руками!\n",
    "\n",
    "В некотором смысле это будет расширением прошлого задания - нам нужно просто составить несколько линейных классификаторов вместе!\n",
    "\n",
    "<img src=\"https://i.redd.it/n9fgba8b0qr01.png\" alt=\"Stack_more_layers\" width=\"400px\"/>"
   ]
  },
  {
   "cell_type": "code",
   "execution_count": 1,
   "metadata": {},
   "outputs": [],
   "source": [
    "import numpy as np\n",
    "import matplotlib.pyplot as plt\n",
    "\n",
    "%matplotlib inline\n",
    "\n",
    "%load_ext autoreload\n",
    "%autoreload 2"
   ]
  },
  {
   "cell_type": "code",
   "execution_count": 2,
   "metadata": {},
   "outputs": [],
   "source": [
    "from dataset import load_svhn, random_split_train_val\n",
    "from gradient_check import check_layer_gradient, check_layer_param_gradient, check_model_gradient\n",
    "from layers import FullyConnectedLayer, ReLULayer\n",
    "from model import TwoLayerNet\n",
    "from trainer import Trainer, Dataset\n",
    "from optim import SGD, MomentumSGD\n",
    "from metrics import multiclass_accuracy"
   ]
  },
  {
   "cell_type": "markdown",
   "metadata": {},
   "source": [
    "# Загружаем данные\n",
    "\n",
    "И разделяем их на training и validation."
   ]
  },
  {
   "cell_type": "code",
   "execution_count": 3,
   "metadata": {},
   "outputs": [],
   "source": [
    "def prepare_for_neural_network(train_X, test_X):\n",
    "    train_flat = train_X.reshape(train_X.shape[0], -1).astype(np.float) / 255.0\n",
    "    test_flat = test_X.reshape(test_X.shape[0], -1).astype(np.float) / 255.0\n",
    "    \n",
    "    # Subtract mean\n",
    "    mean_image = np.mean(train_flat, axis = 0)\n",
    "    train_flat -= mean_image\n",
    "    test_flat -= mean_image\n",
    "    \n",
    "    return train_flat, test_flat\n",
    "    \n",
    "train_X, train_y, test_X, test_y = load_svhn(\"data\", max_train=10000, max_test=1000)    \n",
    "train_X, test_X = prepare_for_neural_network(train_X, test_X)\n",
    "# Split train into train and val\n",
    "train_X, train_y, val_X, val_y = random_split_train_val(train_X, train_y, num_val = 1000)"
   ]
  },
  {
   "cell_type": "markdown",
   "metadata": {},
   "source": [
    "# Как всегда, начинаем с кирпичиков\n",
    "\n",
    "Мы будем реализовывать необходимые нам слои по очереди. Каждый слой должен реализовать:\n",
    "- прямой проход (forward pass), который генерирует выход слоя по входу и запоминает необходимые данные\n",
    "- обратный проход (backward pass), который получает градиент по выходу слоя и вычисляет градиент по входу и по параметрам\n",
    "\n",
    "Начнем с ReLU, у которого параметров нет."
   ]
  },
  {
   "cell_type": "code",
   "execution_count": 4,
   "metadata": {},
   "outputs": [
    {
     "name": "stdout",
     "output_type": "stream",
     "text": [
      "Gradient check passed!\n"
     ]
    }
   ],
   "source": [
    "# TODO: Implement ReLULayer layer in layers.py\n",
    "# Note: you'll need to copy implementation of the gradient_check function from the previous assignment\n",
    "\n",
    "X = np.array([[0,-2,3],\n",
    "              [-1, 2, 0.1]\n",
    "              ])\n",
    "\n",
    "testLayer = ReLULayer()\n",
    "\n",
    "assert check_layer_gradient(ReLULayer(), X)"
   ]
  },
  {
   "cell_type": "markdown",
   "metadata": {},
   "source": [
    "А теперь реализуем полносвязный слой (fully connected layer), у которого будет два массива параметров: W (weights) и B (bias).\n",
    "\n",
    "Все параметры наши слои будут использовать для параметров специальный класс `Param`, в котором будут храниться значения параметров и градиенты этих параметров, вычисляемые во время обратного прохода.\n",
    "\n",
    "Это даст возможность аккумулировать (суммировать) градиенты из разных частей функции потерь, например, из cross-entropy loss и regularization loss."
   ]
  },
  {
   "cell_type": "code",
   "execution_count": 5,
   "metadata": {},
   "outputs": [
    {
     "name": "stdout",
     "output_type": "stream",
     "text": [
      "Gradient check passed!\n",
      "Gradient check passed!\n",
      "Gradient check passed!\n"
     ]
    }
   ],
   "source": [
    "# TODO: Implement FullyConnected layer forward and backward methods\n",
    "assert check_layer_gradient(FullyConnectedLayer(3, 4), X)\n",
    "# TODO: Implement storing gradients for W and B\n",
    "assert check_layer_param_gradient(FullyConnectedLayer(3, 4), X, 'W')\n",
    "assert check_layer_param_gradient(FullyConnectedLayer(3, 4), X, 'B')"
   ]
  },
  {
   "cell_type": "markdown",
   "metadata": {},
   "source": [
    "## Создаем нейронную сеть\n",
    "\n",
    "Теперь мы реализуем простейшую нейронную сеть с двумя полносвязным слоями и нелинейностью ReLU. Реализуйте функцию `compute_loss_and_gradients`, она должна запустить прямой и обратный проход через оба слоя для вычисления градиентов.\n",
    "\n",
    "Не забудьте реализовать очистку градиентов в начале функции."
   ]
  },
  {
   "cell_type": "code",
   "execution_count": 6,
   "metadata": {},
   "outputs": [
    {
     "data": {
      "text/plain": [
       "2.3012422546308207"
      ]
     },
     "execution_count": 6,
     "metadata": {},
     "output_type": "execute_result"
    }
   ],
   "source": [
    "from model import TwoLayerNet\n",
    "model = TwoLayerNet(n_input = train_X.shape[1], n_output = 10, hidden_layer_size = 3, reg = 0)\n",
    "\n",
    "#Now implement regularizaion\n",
    "model.compute_loss_and_gradients(train_X[:2], train_y[:2])\n",
    "\n"
   ]
  },
  {
   "cell_type": "code",
   "execution_count": 7,
   "metadata": {},
   "outputs": [
    {
     "name": "stdout",
     "output_type": "stream",
     "text": [
      "Checking gradient for hidden_W parameter\n",
      "Gradient check passed!\n",
      "Checking gradient for hidden_B parameter\n",
      "Gradient check passed!\n",
      "Checking gradient for output_W parameter\n",
      "Gradient check passed!\n",
      "Checking gradient for output_B parameter\n",
      "Gradient check passed!\n"
     ]
    },
    {
     "data": {
      "text/plain": [
       "True"
      ]
     },
     "execution_count": 7,
     "metadata": {},
     "output_type": "execute_result"
    }
   ],
   "source": [
    "# TODO: In model.py, implement compute_loss_and_gradients function\n",
    "model = TwoLayerNet(n_input = train_X.shape[1], n_output = 10, hidden_layer_size = 3, reg = 0)\n",
    "loss = model.compute_loss_and_gradients(train_X[:2], train_y[:2])\n",
    "\n",
    "# TODO Now implement backward pass and aggregate all of the params\n",
    "check_model_gradient(model, train_X[:2], train_y[:2])"
   ]
  },
  {
   "cell_type": "markdown",
   "metadata": {},
   "source": [
    "Теперь добавьте к модели регуляризацию - она должна прибавляться к loss и делать свой вклад в градиенты."
   ]
  },
  {
   "cell_type": "code",
   "execution_count": 8,
   "metadata": {},
   "outputs": [
    {
     "name": "stdout",
     "output_type": "stream",
     "text": [
      "Checking gradient for hidden_W parameter\n",
      "Gradient check passed!\n",
      "Checking gradient for hidden_B parameter\n",
      "Gradient check passed!\n",
      "Checking gradient for output_W parameter\n",
      "Gradient check passed!\n",
      "Checking gradient for output_B parameter\n",
      "Gradient check passed!\n"
     ]
    },
    {
     "data": {
      "text/plain": [
       "True"
      ]
     },
     "execution_count": 8,
     "metadata": {},
     "output_type": "execute_result"
    }
   ],
   "source": [
    "# TODO Now implement l2 regularization in the forward and backward pass\n",
    "model_with_reg = TwoLayerNet(n_input = train_X.shape[1], n_output = 10, hidden_layer_size = 3, reg = 1e1)\n",
    "loss_with_reg = model_with_reg.compute_loss_and_gradients(train_X[:2], train_y[:2])\n",
    "assert loss_with_reg > loss and not np.isclose(loss_with_reg, loss), \\\n",
    "    \"Loss with regularization (%2.4f) should be higher than without it (%2.4f)!\" % (loss, loss_with_reg)\n",
    "\n",
    "check_model_gradient(model_with_reg, train_X[:2], train_y[:2])"
   ]
  },
  {
   "cell_type": "markdown",
   "metadata": {},
   "source": [
    "Также реализуем функцию предсказания (вычисления значения) модели на новых данных.\n",
    "\n",
    "Какое значение точности мы ожидаем увидеть до начала тренировки?"
   ]
  },
  {
   "cell_type": "code",
   "execution_count": 9,
   "metadata": {},
   "outputs": [
    {
     "data": {
      "text/plain": [
       "0.16666666666666666"
      ]
     },
     "execution_count": 9,
     "metadata": {},
     "output_type": "execute_result"
    }
   ],
   "source": [
    "# Finally, implement predict function!\n",
    "from layers import FullyConnectedLayer, ReLULayer\n",
    "from model import TwoLayerNet\n",
    "# TODO: Implement predict function\n",
    "# What would be the value we expect?\n",
    "multiclass_accuracy(model_with_reg.predict(train_X[:30]), train_y[:30]) "
   ]
  },
  {
   "cell_type": "markdown",
   "metadata": {},
   "source": [
    "# Допишем код для процесса тренировки\n",
    "\n",
    "Если все реализовано корректно, значение функции ошибки должно уменьшаться с каждой эпохой, пусть и медленно. Не беспокойтесь пока про validation accuracy."
   ]
  },
  {
   "cell_type": "code",
   "execution_count": 17,
   "metadata": {},
   "outputs": [
    {
     "name": "stdout",
     "output_type": "stream",
     "text": [
      "Loss: 2.301046, Train accuracy: 0.148222, val accuracy: 0.140000\n",
      "Loss: 2.294846, Train accuracy: 0.148222, val accuracy: 0.140000\n",
      "Loss: 2.262451, Train accuracy: 0.148222, val accuracy: 0.140000\n",
      "Loss: 2.291643, Train accuracy: 0.148222, val accuracy: 0.140000\n",
      "Loss: 2.271335, Train accuracy: 0.148222, val accuracy: 0.140000\n",
      "Loss: 2.249244, Train accuracy: 0.148222, val accuracy: 0.140000\n",
      "Loss: 2.311938, Train accuracy: 0.148222, val accuracy: 0.140000\n",
      "Loss: 2.224650, Train accuracy: 0.148222, val accuracy: 0.140000\n",
      "Loss: 2.310488, Train accuracy: 0.148222, val accuracy: 0.140000\n",
      "Loss: 2.287230, Train accuracy: 0.148222, val accuracy: 0.140000\n",
      "Loss: 2.243316, Train accuracy: 0.148222, val accuracy: 0.140000\n",
      "Loss: 2.323646, Train accuracy: 0.148222, val accuracy: 0.140000\n",
      "Loss: 2.292502, Train accuracy: 0.148222, val accuracy: 0.140000\n",
      "Loss: 2.193651, Train accuracy: 0.148222, val accuracy: 0.140000\n",
      "Loss: 2.273020, Train accuracy: 0.148222, val accuracy: 0.140000\n",
      "Loss: 2.204563, Train accuracy: 0.240111, val accuracy: 0.228000\n",
      "Loss: 2.144456, Train accuracy: 0.249889, val accuracy: 0.249000\n",
      "Loss: 2.204682, Train accuracy: 0.265000, val accuracy: 0.263000\n",
      "Loss: 2.171291, Train accuracy: 0.273444, val accuracy: 0.271000\n",
      "Loss: 2.237730, Train accuracy: 0.284000, val accuracy: 0.281000\n",
      "Loss: 1.968246, Train accuracy: 0.293889, val accuracy: 0.283000\n",
      "Loss: 2.042029, Train accuracy: 0.300333, val accuracy: 0.286000\n",
      "Loss: 2.300786, Train accuracy: 0.306222, val accuracy: 0.295000\n",
      "Loss: 1.958206, Train accuracy: 0.307556, val accuracy: 0.299000\n",
      "Loss: 1.934839, Train accuracy: 0.307778, val accuracy: 0.294000\n",
      "Loss: 2.088664, Train accuracy: 0.309556, val accuracy: 0.297000\n",
      "Loss: 2.423954, Train accuracy: 0.310556, val accuracy: 0.296000\n",
      "Loss: 2.080679, Train accuracy: 0.311444, val accuracy: 0.294000\n",
      "Loss: 2.061023, Train accuracy: 0.310444, val accuracy: 0.295000\n",
      "Loss: 2.024816, Train accuracy: 0.312667, val accuracy: 0.300000\n",
      "Loss: 1.697073, Train accuracy: 0.311889, val accuracy: 0.295000\n",
      "Loss: 1.604473, Train accuracy: 0.315111, val accuracy: 0.295000\n",
      "Loss: 1.858294, Train accuracy: 0.314889, val accuracy: 0.300000\n",
      "Loss: 1.609010, Train accuracy: 0.316111, val accuracy: 0.298000\n",
      "Loss: 1.920981, Train accuracy: 0.318111, val accuracy: 0.303000\n",
      "Loss: 2.431444, Train accuracy: 0.319889, val accuracy: 0.302000\n",
      "Loss: 1.984418, Train accuracy: 0.318222, val accuracy: 0.299000\n",
      "Loss: 1.971440, Train accuracy: 0.321222, val accuracy: 0.302000\n",
      "Loss: 1.554755, Train accuracy: 0.320556, val accuracy: 0.302000\n",
      "Loss: 1.603166, Train accuracy: 0.321667, val accuracy: 0.310000\n"
     ]
    }
   ],
   "source": [
    "from trainer import Trainer, Dataset\n",
    "model = TwoLayerNet(n_input = train_X.shape[1], n_output = 10, hidden_layer_size = 100, reg = 1e-3)\n",
    "dataset = Dataset(train_X, train_y, val_X, val_y)\n",
    "trainer = Trainer(model, dataset, SGD(),num_epochs=20, learning_rate = 1e-2)\n",
    "\n",
    "# TODO Implement missing pieces in Trainer.fit function\n",
    "# You should expect loss to go down every epoch, even if it's slow\n",
    "loss_history, train_history, val_history = trainer.fit()"
   ]
  },
  {
   "cell_type": "code",
   "execution_count": 18,
   "metadata": {},
   "outputs": [
    {
     "data": {
      "text/plain": [
       "[<matplotlib.lines.Line2D at 0x7f0bf99759e8>]"
      ]
     },
     "execution_count": 18,
     "metadata": {},
     "output_type": "execute_result"
    },
    {
     "data": {
      "image/png": "[encoded data removed]",
      "text/plain": [
       "<Figure size 432x288 with 1 Axes>"
      ]
     },
     "metadata": {
      "needs_background": "light"
     },
     "output_type": "display_data"
    }
   ],
   "source": [
    "plt.plot(loss_history)"
   ]
  },
  {
   "cell_type": "code",
   "execution_count": 19,
   "metadata": {},
   "outputs": [
    {
     "data": {
      "text/plain": [
       "[<matplotlib.lines.Line2D at 0x7f0bf998f080>]"
      ]
     },
     "execution_count": 19,
     "metadata": {},
     "output_type": "execute_result"
    },
    {
     "data": {
      "image/png": "[encoded data removed]",
      "text/plain": [
       "<Figure size 432x288 with 1 Axes>"
      ]
     },
     "metadata": {
      "needs_background": "light"
     },
     "output_type": "display_data"
    }
   ],
   "source": [
    "plt.plot(train_history)\n",
    "plt.plot(val_history)"
   ]
  },
  {
   "cell_type": "markdown",
   "metadata": {},
   "source": [
    "# Улучшаем процесс тренировки\n",
    "\n",
    "Мы реализуем несколько ключевых оптимизаций, необходимых для тренировки современных нейросетей."
   ]
  },
  {
   "cell_type": "markdown",
   "metadata": {},
   "source": [
    "## Уменьшение скорости обучения (learning rate decay)\n",
    "\n",
    "Одна из необходимых оптимизаций во время тренировки нейронных сетей - постепенное уменьшение скорости обучения по мере тренировки.\n",
    "\n",
    "Один из стандартных методов - уменьшение скорости обучения (learning rate) каждые N эпох на коэффициент d (часто называемый decay). Значения N и d, как всегда, являются гиперпараметрами и должны подбираться на основе эффективности на проверочных данных (validation data). \n",
    "\n",
    "В нашем случае N будет равным 1."
   ]
  },
  {
   "cell_type": "code",
   "execution_count": 20,
   "metadata": {},
   "outputs": [
    {
     "name": "stdout",
     "output_type": "stream",
     "text": [
      "Loss: 2.328676, Train accuracy: 0.196667, val accuracy: 0.206000\n",
      "Loss: 2.332502, Train accuracy: 0.196667, val accuracy: 0.206000\n",
      "Loss: 2.317382, Train accuracy: 0.196667, val accuracy: 0.206000\n",
      "Loss: 2.285698, Train accuracy: 0.196667, val accuracy: 0.206000\n",
      "Loss: 2.269842, Train accuracy: 0.196667, val accuracy: 0.206000\n",
      "Loss: 2.269898, Train accuracy: 0.196667, val accuracy: 0.206000\n",
      "Loss: 2.318512, Train accuracy: 0.196667, val accuracy: 0.206000\n",
      "Loss: 2.286142, Train accuracy: 0.196667, val accuracy: 0.206000\n",
      "Loss: 2.286562, Train accuracy: 0.196667, val accuracy: 0.206000\n",
      "Loss: 2.301449, Train accuracy: 0.196667, val accuracy: 0.206000\n",
      "Loss: 2.251858, Train accuracy: 0.196667, val accuracy: 0.206000\n",
      "Loss: 2.321440, Train accuracy: 0.196667, val accuracy: 0.206000\n",
      "Loss: 2.286162, Train accuracy: 0.196667, val accuracy: 0.206000\n",
      "Loss: 2.270015, Train accuracy: 0.196667, val accuracy: 0.206000\n",
      "Loss: 2.330472, Train accuracy: 0.196667, val accuracy: 0.206000\n",
      "Loss: 2.281353, Train accuracy: 0.196667, val accuracy: 0.206000\n",
      "Loss: 2.279406, Train accuracy: 0.196667, val accuracy: 0.206000\n",
      "Loss: 2.287826, Train accuracy: 0.196667, val accuracy: 0.206000\n",
      "Loss: 2.280918, Train accuracy: 0.196667, val accuracy: 0.206000\n",
      "Loss: 2.266662, Train accuracy: 0.196667, val accuracy: 0.206000\n"
     ]
    }
   ],
   "source": [
    "# TODO Implement learning rate decay inside Trainer.fit method\n",
    "# Decay should happen once per epoch\n",
    "\n",
    "model = TwoLayerNet(n_input = train_X.shape[1], n_output = 10, hidden_layer_size = 100, reg = 1e-1)\n",
    "dataset = Dataset(train_X, train_y, val_X, val_y)\n",
    "trainer = Trainer(model, dataset, SGD(), learning_rate_decay=0.99)\n",
    "\n",
    "initial_learning_rate = trainer.learning_rate\n",
    "loss_history, train_history, val_history = trainer.fit()\n",
    "\n",
    "assert trainer.learning_rate < initial_learning_rate, \"Learning rate should've been reduced\"\n",
    "assert trainer.learning_rate > 0.5*initial_learning_rate, \"Learning rate shouldn'tve been reduced that much!\""
   ]
  },
  {
   "cell_type": "markdown",
   "metadata": {},
   "source": [
    "# Накопление импульса (Momentum SGD)\n",
    "\n",
    "Другой большой класс оптимизаций - использование более эффективных методов градиентного спуска. Мы реализуем один из них - накопление импульса (Momentum SGD).\n",
    "\n",
    "Этот метод хранит скорость движения, использует градиент для ее изменения на каждом шаге, и изменяет веса пропорционально значению скорости.\n",
    "(Физическая аналогия: Вместо скорости градиенты теперь будут задавать ускорение, но будет присутствовать сила трения.)\n",
    "\n",
    "```\n",
    "velocity = momentum * velocity - learning_rate * gradient \n",
    "w = w + velocity\n",
    "```\n",
    "\n",
    "`momentum` здесь коэффициент затухания, который тоже является гиперпараметром (к счастью, для него часто есть хорошее значение по умолчанию, типичный диапазон -- 0.8-0.99).\n",
    "\n",
    "Несколько полезных ссылок, где метод разбирается более подробно:  \n",
    "http://cs231n.github.io/neural-networks-3/#sgd  \n",
    "https://distill.pub/2017/momentum/"
   ]
  },
  {
   "cell_type": "code",
   "execution_count": 21,
   "metadata": {},
   "outputs": [
    {
     "name": "stdout",
     "output_type": "stream",
     "text": [
      "Loss: 2.317896, Train accuracy: 0.196667, val accuracy: 0.206000\n",
      "Loss: 2.309036, Train accuracy: 0.196667, val accuracy: 0.206000\n",
      "Loss: 2.329036, Train accuracy: 0.196667, val accuracy: 0.206000\n",
      "Loss: 2.293804, Train accuracy: 0.196667, val accuracy: 0.206000\n",
      "Loss: 2.287194, Train accuracy: 0.196667, val accuracy: 0.206000\n",
      "Loss: 2.291477, Train accuracy: 0.196667, val accuracy: 0.206000\n",
      "Loss: 2.276315, Train accuracy: 0.196667, val accuracy: 0.206000\n",
      "Loss: 2.288590, Train accuracy: 0.196667, val accuracy: 0.206000\n",
      "Loss: 2.308587, Train accuracy: 0.196667, val accuracy: 0.206000\n",
      "Loss: 2.234576, Train accuracy: 0.196667, val accuracy: 0.206000\n",
      "Loss: 2.334706, Train accuracy: 0.196667, val accuracy: 0.206000\n",
      "Loss: 2.338872, Train accuracy: 0.196667, val accuracy: 0.206000\n",
      "Loss: 2.293390, Train accuracy: 0.196667, val accuracy: 0.206000\n",
      "Loss: 2.298660, Train accuracy: 0.196667, val accuracy: 0.206000\n",
      "Loss: 2.347115, Train accuracy: 0.196667, val accuracy: 0.206000\n",
      "Loss: 2.335010, Train accuracy: 0.196667, val accuracy: 0.206000\n",
      "Loss: 2.227760, Train accuracy: 0.196667, val accuracy: 0.206000\n",
      "Loss: 2.306940, Train accuracy: 0.148222, val accuracy: 0.140000\n",
      "Loss: 2.263506, Train accuracy: 0.196667, val accuracy: 0.206000\n",
      "Loss: 2.301325, Train accuracy: 0.196667, val accuracy: 0.206000\n"
     ]
    }
   ],
   "source": [
    "# TODO: Implement MomentumSGD.update function in optim.py\n",
    "\n",
    "model = TwoLayerNet(n_input = train_X.shape[1], n_output = 10, hidden_layer_size = 100, reg = 1e-1)\n",
    "dataset = Dataset(train_X, train_y, val_X, val_y)\n",
    "trainer = Trainer(model, dataset, MomentumSGD(), learning_rate=1e-1, learning_rate_decay=0.99)\n",
    "\n",
    "# You should see even better results than before!\n",
    "loss_history, train_history, val_history = trainer.fit()"
   ]
  },
  {
   "cell_type": "markdown",
   "metadata": {},
   "source": [
    "# Ну что, давайте уже тренировать сеть!"
   ]
  },
  {
   "cell_type": "markdown",
   "metadata": {},
   "source": [
    "## Последний тест - переобучимся (overfit) на маленьком наборе данных\n",
    "\n",
    "Хороший способ проверить, все ли реализовано корректно - переобучить сеть на маленьком наборе данных.  \n",
    "Наша модель обладает достаточной мощностью, чтобы приблизить маленький набор данных идеально, поэтому мы ожидаем, что на нем мы быстро дойдем до 100% точности на тренировочном наборе. \n",
    "\n",
    "Если этого не происходит, то где-то была допущена ошибка!"
   ]
  },
  {
   "cell_type": "code",
   "execution_count": 10,
   "metadata": {},
   "outputs": [
    {
     "ename": "NameError",
     "evalue": "name 'e' is not defined",
     "output_type": "error",
     "traceback": [
      "\u001b[0;31m---------------------------------------------------------------------------\u001b[0m",
      "\u001b[0;31mNameError\u001b[0m                                 Traceback (most recent call last)",
      "\u001b[0;32m<ipython-input-10-df0483226c7a>\u001b[0m in \u001b[0;36m<module>\u001b[0;34m\u001b[0m\n\u001b[1;32m      2\u001b[0m \u001b[0mmodel\u001b[0m \u001b[0;34m=\u001b[0m \u001b[0mTwoLayerNet\u001b[0m\u001b[0;34m(\u001b[0m\u001b[0mn_input\u001b[0m \u001b[0;34m=\u001b[0m \u001b[0mtrain_X\u001b[0m\u001b[0;34m.\u001b[0m\u001b[0mshape\u001b[0m\u001b[0;34m[\u001b[0m\u001b[0;36m1\u001b[0m\u001b[0;34m]\u001b[0m\u001b[0;34m,\u001b[0m \u001b[0mn_output\u001b[0m \u001b[0;34m=\u001b[0m \u001b[0;36m10\u001b[0m\u001b[0;34m,\u001b[0m \u001b[0mhidden_layer_size\u001b[0m \u001b[0;34m=\u001b[0m \u001b[0;36m100\u001b[0m\u001b[0;34m,\u001b[0m \u001b[0mreg\u001b[0m \u001b[0;34m=\u001b[0m \u001b[0;36m1e-3\u001b[0m\u001b[0;34m)\u001b[0m\u001b[0;34m\u001b[0m\u001b[0;34m\u001b[0m\u001b[0m\n\u001b[1;32m      3\u001b[0m \u001b[0mdataset\u001b[0m \u001b[0;34m=\u001b[0m \u001b[0mDataset\u001b[0m\u001b[0;34m(\u001b[0m\u001b[0mtrain_X\u001b[0m\u001b[0;34m[\u001b[0m\u001b[0;34m:\u001b[0m\u001b[0mdata_size\u001b[0m\u001b[0;34m]\u001b[0m\u001b[0;34m,\u001b[0m \u001b[0mtrain_y\u001b[0m\u001b[0;34m[\u001b[0m\u001b[0;34m:\u001b[0m\u001b[0mdata_size\u001b[0m\u001b[0;34m]\u001b[0m\u001b[0;34m,\u001b[0m \u001b[0mval_X\u001b[0m\u001b[0;34m[\u001b[0m\u001b[0;34m:\u001b[0m\u001b[0mdata_size\u001b[0m\u001b[0;34m]\u001b[0m\u001b[0;34m,\u001b[0m \u001b[0mval_y\u001b[0m\u001b[0;34m[\u001b[0m\u001b[0;34m:\u001b[0m\u001b[0mdata_size\u001b[0m\u001b[0;34m]\u001b[0m\u001b[0;34m)\u001b[0m\u001b[0;34m\u001b[0m\u001b[0;34m\u001b[0m\u001b[0m\n\u001b[0;32m----> 4\u001b[0;31m \u001b[0mtrainer\u001b[0m \u001b[0;34m=\u001b[0m \u001b[0mTrainer\u001b[0m\u001b[0;34m(\u001b[0m\u001b[0mmodel\u001b[0m\u001b[0;34m,\u001b[0m \u001b[0mdataset\u001b[0m\u001b[0;34m,\u001b[0m \u001b[0mSGD\u001b[0m\u001b[0;34m(\u001b[0m\u001b[0;34m)\u001b[0m\u001b[0;34m,\u001b[0m \u001b[0mlearning_rate\u001b[0m\u001b[0;34m=\u001b[0m\u001b[0me\u001b[0m\u001b[0;34m-\u001b[0m\u001b[0;36m1\u001b[0m\u001b[0;34m,\u001b[0m \u001b[0mnum_epochs\u001b[0m\u001b[0;34m=\u001b[0m\u001b[0;36m150\u001b[0m\u001b[0;34m,\u001b[0m \u001b[0mbatch_size\u001b[0m\u001b[0;34m=\u001b[0m\u001b[0;36m15\u001b[0m\u001b[0;34m,\u001b[0m \u001b[0mlearning_rate_decay\u001b[0m\u001b[0;34m=\u001b[0m\u001b[0;36m0.99\u001b[0m\u001b[0;34m)\u001b[0m\u001b[0;34m\u001b[0m\u001b[0;34m\u001b[0m\u001b[0m\n\u001b[0m\u001b[1;32m      5\u001b[0m \u001b[0;34m\u001b[0m\u001b[0m\n\u001b[1;32m      6\u001b[0m \u001b[0;31m# You should expect this to reach 1.0 training accuracy\u001b[0m\u001b[0;34m\u001b[0m\u001b[0;34m\u001b[0m\u001b[0;34m\u001b[0m\u001b[0m\n",
      "\u001b[0;31mNameError\u001b[0m: name 'e' is not defined"
     ]
    }
   ],
   "source": [
    "data_size = 15\n",
    "model = TwoLayerNet(n_input = train_X.shape[1], n_output = 10, hidden_layer_size = 100, reg = 1e-3)\n",
    "dataset = Dataset(train_X[:data_size], train_y[:data_size], val_X[:data_size], val_y[:data_size])\n",
    "trainer = Trainer(model, dataset, SGD(), learning_rate=1e-1, num_epochs=150, batch_size=15, learning_rate_decay=0.99)\n",
    "\n",
    "# You should expect this to reach 1.0 training accuracy \n",
    "loss_history, train_history, val_history = trainer.fit()"
   ]
  },
  {
   "cell_type": "markdown",
   "metadata": {},
   "source": [
    "Теперь найдем гипепараметры, для которых этот процесс сходится быстрее.\n",
    "Если все реализовано корректно, то существуют параметры, при которых процесс сходится в **20** эпох или еще быстрее.\n",
    "Найдите их!"
   ]
  },
  {
   "cell_type": "code",
   "execution_count": 46,
   "metadata": {},
   "outputs": [
    {
     "name": "stdout",
     "output_type": "stream",
     "text": [
      "Loss: 2.305836, Train accuracy: 0.200000, val accuracy: 0.066667\n",
      "Loss: 2.300645, Train accuracy: 0.200000, val accuracy: 0.066667\n",
      "Loss: 2.296028, Train accuracy: 0.200000, val accuracy: 0.066667\n",
      "Loss: 2.291615, Train accuracy: 0.200000, val accuracy: 0.066667\n",
      "Loss: 2.287185, Train accuracy: 0.200000, val accuracy: 0.066667\n",
      "Loss: 2.282270, Train accuracy: 0.200000, val accuracy: 0.066667\n",
      "Loss: 2.275822, Train accuracy: 0.200000, val accuracy: 0.066667\n",
      "Loss: 2.265455, Train accuracy: 0.333333, val accuracy: 0.066667\n",
      "Loss: 2.245912, Train accuracy: 0.333333, val accuracy: 0.066667\n",
      "Loss: 2.206874, Train accuracy: 0.333333, val accuracy: 0.066667\n",
      "Loss: 2.135862, Train accuracy: 0.333333, val accuracy: 0.066667\n",
      "Loss: 2.051694, Train accuracy: 0.333333, val accuracy: 0.066667\n",
      "Loss: 2.006157, Train accuracy: 0.333333, val accuracy: 0.066667\n",
      "Loss: 1.974474, Train accuracy: 0.333333, val accuracy: 0.066667\n",
      "Loss: 1.947721, Train accuracy: 0.333333, val accuracy: 0.066667\n",
      "Loss: 1.921633, Train accuracy: 0.333333, val accuracy: 0.066667\n",
      "Loss: 1.894719, Train accuracy: 0.333333, val accuracy: 0.066667\n",
      "Loss: 1.867644, Train accuracy: 0.333333, val accuracy: 0.066667\n",
      "Loss: 1.841182, Train accuracy: 0.333333, val accuracy: 0.066667\n",
      "Loss: 1.816770, Train accuracy: 0.333333, val accuracy: 0.066667\n"
     ]
    }
   ],
   "source": [
    "# Now, tweak some hyper parameters and make it train to 1.0 accuracy in 20 epochs or less\n",
    "\n",
    "model = TwoLayerNet(n_input = train_X.shape[1], n_output = 10, hidden_layer_size = 100, reg = 1e-2)\n",
    "dataset = Dataset(train_X[:data_size], train_y[:data_size], val_X[:data_size], val_y[:data_size])\n",
    "# TODO: Change any hyperparamers or optimizators to reach training accuracy in 20 epochs\n",
    "trainer = Trainer(model, dataset, SGD(), learning_rate=4e-1, num_epochs=20, batch_size=15)\n",
    "\n",
    "loss_history, train_history, val_history = trainer.fit()"
   ]
  },
  {
   "cell_type": "markdown",
   "metadata": {},
   "source": [
    "# Итак, основное мероприятие!\n",
    "\n",
    "Натренируйте лучшую нейросеть! Можно добавлять и изменять параметры, менять количество нейронов в слоях сети и как угодно экспериментировать. \n",
    "\n",
    "Добейтесь точности лучше **40%** на validation set."
   ]
  },
  {
   "cell_type": "code",
   "execution_count": 11,
   "metadata": {},
   "outputs": [
    {
     "name": "stdout",
     "output_type": "stream",
     "text": [
      "Epoch: 0.000000, Loss: 2.248490, Train accuracy: 0.196667, val accuracy: 0.206000\n",
      "Epoch: 1.000000, Loss: 2.319471, Train accuracy: 0.196667, val accuracy: 0.206000\n",
      "Epoch: 2.000000, Loss: 2.146110, Train accuracy: 0.196667, val accuracy: 0.206000\n",
      "Epoch: 3.000000, Loss: 2.071886, Train accuracy: 0.210667, val accuracy: 0.225000\n",
      "Epoch: 4.000000, Loss: 2.230434, Train accuracy: 0.228778, val accuracy: 0.249000\n",
      "Epoch: 5.000000, Loss: 2.028859, Train accuracy: 0.244333, val accuracy: 0.268000\n",
      "Epoch: 6.000000, Loss: 1.961512, Train accuracy: 0.261222, val accuracy: 0.288000\n",
      "Epoch: 7.000000, Loss: 2.019076, Train accuracy: 0.286889, val accuracy: 0.315000\n",
      "Epoch: 8.000000, Loss: 1.971225, Train accuracy: 0.317444, val accuracy: 0.350000\n",
      "Epoch: 9.000000, Loss: 2.247622, Train accuracy: 0.331333, val accuracy: 0.354000\n",
      "Epoch: 10.000000, Loss: 2.020500, Train accuracy: 0.346000, val accuracy: 0.360000\n",
      "Epoch: 11.000000, Loss: 1.713808, Train accuracy: 0.363000, val accuracy: 0.380000\n",
      "Epoch: 12.000000, Loss: 2.038986, Train accuracy: 0.376222, val accuracy: 0.394000\n",
      "Epoch: 13.000000, Loss: 1.726021, Train accuracy: 0.403222, val accuracy: 0.415000\n",
      "Epoch: 14.000000, Loss: 1.448154, Train accuracy: 0.423889, val accuracy: 0.441000\n",
      "Epoch: 15.000000, Loss: 1.907794, Train accuracy: 0.451111, val accuracy: 0.469000\n",
      "Epoch: 16.000000, Loss: 1.702461, Train accuracy: 0.470889, val accuracy: 0.481000\n",
      "Epoch: 17.000000, Loss: 1.582746, Train accuracy: 0.489222, val accuracy: 0.491000\n",
      "Epoch: 18.000000, Loss: 1.735784, Train accuracy: 0.496111, val accuracy: 0.497000\n",
      "Epoch: 19.000000, Loss: 1.922509, Train accuracy: 0.498333, val accuracy: 0.512000\n",
      "Epoch: 20.000000, Loss: 1.526623, Train accuracy: 0.509556, val accuracy: 0.515000\n",
      "Epoch: 21.000000, Loss: 1.543858, Train accuracy: 0.511778, val accuracy: 0.520000\n",
      "Epoch: 22.000000, Loss: 1.636253, Train accuracy: 0.518333, val accuracy: 0.532000\n",
      "Epoch: 23.000000, Loss: 1.528210, Train accuracy: 0.523667, val accuracy: 0.534000\n",
      "Epoch: 24.000000, Loss: 1.685593, Train accuracy: 0.510000, val accuracy: 0.530000\n",
      "Epoch: 25.000000, Loss: 1.676758, Train accuracy: 0.526667, val accuracy: 0.542000\n",
      "Epoch: 26.000000, Loss: 1.483751, Train accuracy: 0.531333, val accuracy: 0.545000\n",
      "Epoch: 27.000000, Loss: 1.628531, Train accuracy: 0.536889, val accuracy: 0.548000\n",
      "Epoch: 28.000000, Loss: 1.470980, Train accuracy: 0.541111, val accuracy: 0.545000\n",
      "Epoch: 29.000000, Loss: 1.194893, Train accuracy: 0.547000, val accuracy: 0.549000\n",
      "Epoch: 30.000000, Loss: 1.712995, Train accuracy: 0.544333, val accuracy: 0.545000\n",
      "Epoch: 31.000000, Loss: 1.553598, Train accuracy: 0.543111, val accuracy: 0.550000\n",
      "Epoch: 32.000000, Loss: 1.715235, Train accuracy: 0.545889, val accuracy: 0.543000\n",
      "Epoch: 33.000000, Loss: 1.793639, Train accuracy: 0.549889, val accuracy: 0.543000\n",
      "Epoch: 34.000000, Loss: 1.278433, Train accuracy: 0.554556, val accuracy: 0.553000\n",
      "Epoch: 35.000000, Loss: 1.338119, Train accuracy: 0.560222, val accuracy: 0.553000\n",
      "Epoch: 36.000000, Loss: 1.406414, Train accuracy: 0.554333, val accuracy: 0.551000\n",
      "Epoch: 37.000000, Loss: 1.074617, Train accuracy: 0.565333, val accuracy: 0.553000\n",
      "Epoch: 38.000000, Loss: 1.564786, Train accuracy: 0.564000, val accuracy: 0.556000\n",
      "Epoch: 39.000000, Loss: 1.375361, Train accuracy: 0.563000, val accuracy: 0.557000\n",
      "Epoch: 40.000000, Loss: 1.280123, Train accuracy: 0.566333, val accuracy: 0.554000\n",
      "Epoch: 41.000000, Loss: 1.474169, Train accuracy: 0.564333, val accuracy: 0.555000\n",
      "Epoch: 42.000000, Loss: 1.518031, Train accuracy: 0.564000, val accuracy: 0.545000\n",
      "Epoch: 43.000000, Loss: 0.978323, Train accuracy: 0.565778, val accuracy: 0.554000\n",
      "Epoch: 44.000000, Loss: 1.477377, Train accuracy: 0.571222, val accuracy: 0.555000\n",
      "Epoch: 45.000000, Loss: 1.336894, Train accuracy: 0.574222, val accuracy: 0.565000\n",
      "Epoch: 46.000000, Loss: 1.514178, Train accuracy: 0.570111, val accuracy: 0.556000\n",
      "Epoch: 47.000000, Loss: 1.387563, Train accuracy: 0.572778, val accuracy: 0.554000\n",
      "Epoch: 48.000000, Loss: 1.447459, Train accuracy: 0.577333, val accuracy: 0.566000\n",
      "Epoch: 49.000000, Loss: 1.442454, Train accuracy: 0.576333, val accuracy: 0.558000\n",
      "Epoch: 50.000000, Loss: 1.708501, Train accuracy: 0.579889, val accuracy: 0.563000\n",
      "Epoch: 51.000000, Loss: 1.533563, Train accuracy: 0.574556, val accuracy: 0.560000\n",
      "Epoch: 52.000000, Loss: 1.279643, Train accuracy: 0.584000, val accuracy: 0.568000\n",
      "Epoch: 53.000000, Loss: 1.318732, Train accuracy: 0.583444, val accuracy: 0.571000\n",
      "Epoch: 54.000000, Loss: 1.528352, Train accuracy: 0.591111, val accuracy: 0.573000\n",
      "Epoch: 55.000000, Loss: 1.462334, Train accuracy: 0.586333, val accuracy: 0.556000\n",
      "Epoch: 56.000000, Loss: 1.499915, Train accuracy: 0.586333, val accuracy: 0.568000\n",
      "Epoch: 57.000000, Loss: 1.079293, Train accuracy: 0.590667, val accuracy: 0.571000\n",
      "Epoch: 58.000000, Loss: 1.609913, Train accuracy: 0.592000, val accuracy: 0.571000\n",
      "Epoch: 59.000000, Loss: 1.452583, Train accuracy: 0.584444, val accuracy: 0.559000\n",
      "Epoch: 60.000000, Loss: 1.500014, Train accuracy: 0.587444, val accuracy: 0.560000\n",
      "Epoch: 61.000000, Loss: 1.680571, Train accuracy: 0.594667, val accuracy: 0.567000\n",
      "Epoch: 62.000000, Loss: 1.282330, Train accuracy: 0.589333, val accuracy: 0.573000\n",
      "Epoch: 63.000000, Loss: 1.468876, Train accuracy: 0.592778, val accuracy: 0.568000\n",
      "Epoch: 64.000000, Loss: 1.449241, Train accuracy: 0.597667, val accuracy: 0.570000\n",
      "Epoch: 65.000000, Loss: 1.679536, Train accuracy: 0.599000, val accuracy: 0.567000\n",
      "Epoch: 66.000000, Loss: 1.179362, Train accuracy: 0.602333, val accuracy: 0.583000\n",
      "Epoch: 67.000000, Loss: 1.526690, Train accuracy: 0.599778, val accuracy: 0.576000\n",
      "Epoch: 68.000000, Loss: 1.455452, Train accuracy: 0.599889, val accuracy: 0.584000\n",
      "Epoch: 69.000000, Loss: 1.120906, Train accuracy: 0.604889, val accuracy: 0.579000\n",
      "Epoch: 70.000000, Loss: 1.377415, Train accuracy: 0.596667, val accuracy: 0.581000\n",
      "Epoch: 71.000000, Loss: 1.304334, Train accuracy: 0.605111, val accuracy: 0.577000\n",
      "Epoch: 72.000000, Loss: 1.368681, Train accuracy: 0.607444, val accuracy: 0.584000\n",
      "Epoch: 73.000000, Loss: 1.461526, Train accuracy: 0.605000, val accuracy: 0.579000\n",
      "Epoch: 74.000000, Loss: 1.528437, Train accuracy: 0.610444, val accuracy: 0.580000\n",
      "Epoch: 75.000000, Loss: 1.557555, Train accuracy: 0.606111, val accuracy: 0.578000\n",
      "Epoch: 76.000000, Loss: 1.459242, Train accuracy: 0.607444, val accuracy: 0.579000\n",
      "Epoch: 77.000000, Loss: 1.588894, Train accuracy: 0.604111, val accuracy: 0.582000\n",
      "Epoch: 78.000000, Loss: 1.487087, Train accuracy: 0.613000, val accuracy: 0.581000\n",
      "Epoch: 79.000000, Loss: 1.477731, Train accuracy: 0.613889, val accuracy: 0.583000\n",
      "Epoch: 80.000000, Loss: 1.262303, Train accuracy: 0.612000, val accuracy: 0.589000\n",
      "Epoch: 81.000000, Loss: 1.340186, Train accuracy: 0.603333, val accuracy: 0.573000\n",
      "Epoch: 82.000000, Loss: 1.409196, Train accuracy: 0.608222, val accuracy: 0.585000\n",
      "Epoch: 83.000000, Loss: 1.033743, Train accuracy: 0.617444, val accuracy: 0.589000\n",
      "Epoch: 84.000000, Loss: 1.511640, Train accuracy: 0.617444, val accuracy: 0.592000\n",
      "Epoch: 85.000000, Loss: 1.275686, Train accuracy: 0.614222, val accuracy: 0.587000\n",
      "Epoch: 86.000000, Loss: 1.341005, Train accuracy: 0.608889, val accuracy: 0.584000\n",
      "Epoch: 87.000000, Loss: 1.478969, Train accuracy: 0.620556, val accuracy: 0.596000\n",
      "Epoch: 88.000000, Loss: 1.320145, Train accuracy: 0.633333, val accuracy: 0.597000\n",
      "Epoch: 89.000000, Loss: 1.200962, Train accuracy: 0.633667, val accuracy: 0.586000\n",
      "Epoch: 90.000000, Loss: 1.407398, Train accuracy: 0.640111, val accuracy: 0.598000\n",
      "Epoch: 91.000000, Loss: 1.590185, Train accuracy: 0.637444, val accuracy: 0.606000\n",
      "Epoch: 92.000000, Loss: 1.373781, Train accuracy: 0.640778, val accuracy: 0.605000\n",
      "Epoch: 93.000000, Loss: 1.135611, Train accuracy: 0.644889, val accuracy: 0.602000\n",
      "Epoch: 94.000000, Loss: 1.328407, Train accuracy: 0.649111, val accuracy: 0.611000\n",
      "Epoch: 95.000000, Loss: 0.972117, Train accuracy: 0.643333, val accuracy: 0.606000\n",
      "Epoch: 96.000000, Loss: 1.514505, Train accuracy: 0.652333, val accuracy: 0.611000\n",
      "Epoch: 97.000000, Loss: 1.297560, Train accuracy: 0.647222, val accuracy: 0.612000\n",
      "Epoch: 98.000000, Loss: 1.113807, Train accuracy: 0.653111, val accuracy: 0.610000\n",
      "Epoch: 99.000000, Loss: 1.512432, Train accuracy: 0.653556, val accuracy: 0.604000\n"
     ]
    }
   ],
   "source": [
    "# Let's train the best one-hidden-layer network we can\n",
    "\n",
    "learning_rate = 1e-2\n",
    "reg_strength = 1e-3\n",
    "learning_rate_decay = 0.995\n",
    "hidden_layer_size = 128\n",
    "num_epochs = 100\n",
    "batch_size = 64\n",
    "\n",
    "model = TwoLayerNet(n_input = train_X.shape[1], n_output = 10, hidden_layer_size = hidden_layer_size, reg = reg_strength)\n",
    "dataset = Dataset(train_X, train_y, val_X, val_y)\n",
    "# TODO: Change any hyperparamers or optimizators to reach training accuracy in 20 epochs\n",
    "trainer = Trainer(model, \n",
    "                  dataset, MomentumSGD(), \n",
    "                  learning_rate=learning_rate,\n",
    "                  num_epochs=num_epochs, \n",
    "                  batch_size=batch_size, \n",
    "                  learning_rate_decay=learning_rate_decay\n",
    "                 )\n",
    "\n",
    "loss_history, train_history, val_history = trainer.fit()"
   ]
  },
  {
   "cell_type": "code",
   "execution_count": 20,
   "metadata": {},
   "outputs": [],
   "source": [
    "best_classifier = model\n",
    "best_loss_history = loss_history\n",
    "best_train_history = train_history\n",
    "best_val_history = val_history\n"
   ]
  },
  {
   "cell_type": "code",
   "execution_count": 21,
   "metadata": {},
   "outputs": [
    {
     "data": {
      "text/plain": [
       "[<matplotlib.lines.Line2D at 0x7f5386630710>]"
      ]
     },
     "execution_count": 21,
     "metadata": {},
     "output_type": "execute_result"
    },
    {
     "data": {
      "image/png": "[encoded data removed]",
      "text/plain": [
       "<Figure size 432x288 with 1 Axes>"
      ]
     },
     "metadata": {
      "needs_background": "light"
     },
     "output_type": "display_data"
    }
   ],
   "source": [
    "plt.plot(best_loss_history)"
   ]
  },
  {
   "cell_type": "markdown",
   "metadata": {},
   "source": [
    "# Let's train the best one-hidden-layer network we can\n",
    "\n",
    "learning_rates = 1e-4\n",
    "reg_strength = 1e-3\n",
    "learning_rate_decay = 0.999\n",
    "hidden_layer_size = 128\n",
    "num_epochs = 200\n",
    "batch_size = 64\n",
    "\n",
    "best_classifier = None\n",
    "best_val_accuracy = None\n",
    "\n",
    "loss_history = []\n",
    "train_history = []\n",
    "val_history = []\n",
    "\n",
    "# TODO find the best hyperparameters to train the network\n",
    "# Don't hesitate to add new values to the arrays above, perform experiments, use any tricks you want\n",
    "# You should expect to get to at least 40% of valudation accuracy\n",
    "# Save loss/train/history of the best classifier to the variables above\n",
    "\n",
    "print('best validation accuracy achieved: %f' % best_val_accuracy)"
   ]
  },
  {
   "cell_type": "code",
   "execution_count": null,
   "metadata": {},
   "outputs": [],
   "source": [
    "plt.figure(figsize=(15, 7))\n",
    "plt.subplot(211)\n",
    "plt.title(\"Loss\")\n",
    "plt.plot(loss_history)\n",
    "plt.subplot(212)\n",
    "plt.title(\"Train/validation accuracy\")\n",
    "plt.plot(train_history)\n",
    "plt.plot(val_history)"
   ]
  },
  {
   "cell_type": "markdown",
   "metadata": {},
   "source": [
    "# Как обычно, посмотрим, как наша лучшая модель работает на тестовых данных"
   ]
  },
  {
   "cell_type": "code",
   "execution_count": 22,
   "metadata": {},
   "outputs": [
    {
     "name": "stdout",
     "output_type": "stream",
     "text": [
      "Neural net test set accuracy: 0.549000\n"
     ]
    }
   ],
   "source": [
    "test_pred = best_classifier.predict(test_X)\n",
    "test_accuracy = multiclass_accuracy(test_pred, test_y)\n",
    "print('Neural net test set accuracy: %f' % (test_accuracy, ))"
   ]
  },
  {
   "cell_type": "code",
   "execution_count": null,
   "metadata": {},
   "outputs": [],
   "source": []
  }
 ],
 "metadata": {
  "kernelspec": {
   "display_name": "dlcourse_ai_venv",
   "language": "python",
   "name": "dlcourse_ai_venv"
  },
  "language_info": {
   "codemirror_mode": {
    "name": "ipython",
    "version": 3
   },
   "file_extension": ".py",
   "mimetype": "text/x-python",
   "name": "python",
   "nbconvert_exporter": "python",
   "pygments_lexer": "ipython3",
   "version": "3.6.8"
  }
 },
 "nbformat": 4,
 "nbformat_minor": 4
}
